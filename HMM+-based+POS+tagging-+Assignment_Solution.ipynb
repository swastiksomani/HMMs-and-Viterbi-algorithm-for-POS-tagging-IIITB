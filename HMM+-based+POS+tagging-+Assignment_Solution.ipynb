{
 "cells": [
  {
   "cell_type": "markdown",
   "metadata": {},
   "source": [
    "# POS tagging using modified Viterbi"
   ]
  },
  {
   "cell_type": "markdown",
   "metadata": {},
   "source": [
    "### Data Preparation"
   ]
  },
  {
   "cell_type": "code",
   "execution_count": 1,
   "metadata": {},
   "outputs": [],
   "source": [
    "#Importing libraries\n",
    "import nltk, re, pprint\n",
    "import numpy as np\n",
    "import pandas as pd\n",
    "import requests\n",
    "import matplotlib.pyplot as plt\n",
    "import seaborn as sns\n",
    "import pprint, time\n",
    "import random\n",
    "from sklearn.model_selection import train_test_split\n",
    "from nltk.tokenize import word_tokenize"
   ]
  },
  {
   "cell_type": "code",
   "execution_count": 2,
   "metadata": {},
   "outputs": [],
   "source": [
    "# reading the Treebank tagged sentences\n",
    "nltk_data = list(nltk.corpus.treebank.tagged_sents(tagset='universal'))"
   ]
  },
  {
   "cell_type": "code",
   "execution_count": 3,
   "metadata": {},
   "outputs": [
    {
     "name": "stdout",
     "output_type": "stream",
     "text": [
      "[[('Pierre', 'NOUN'), ('Vinken', 'NOUN'), (',', '.'), ('61', 'NUM'), ('years', 'NOUN'), ('old', 'ADJ'), (',', '.'), ('will', 'VERB'), ('join', 'VERB'), ('the', 'DET'), ('board', 'NOUN'), ('as', 'ADP'), ('a', 'DET'), ('nonexecutive', 'ADJ'), ('director', 'NOUN'), ('Nov.', 'NOUN'), ('29', 'NUM'), ('.', '.')], [('Mr.', 'NOUN'), ('Vinken', 'NOUN'), ('is', 'VERB'), ('chairman', 'NOUN'), ('of', 'ADP'), ('Elsevier', 'NOUN'), ('N.V.', 'NOUN'), (',', '.'), ('the', 'DET'), ('Dutch', 'NOUN'), ('publishing', 'VERB'), ('group', 'NOUN'), ('.', '.')], [('Rudolph', 'NOUN'), ('Agnew', 'NOUN'), (',', '.'), ('55', 'NUM'), ('years', 'NOUN'), ('old', 'ADJ'), ('and', 'CONJ'), ('former', 'ADJ'), ('chairman', 'NOUN'), ('of', 'ADP'), ('Consolidated', 'NOUN'), ('Gold', 'NOUN'), ('Fields', 'NOUN'), ('PLC', 'NOUN'), (',', '.'), ('was', 'VERB'), ('named', 'VERB'), ('*-1', 'X'), ('a', 'DET'), ('nonexecutive', 'ADJ'), ('director', 'NOUN'), ('of', 'ADP'), ('this', 'DET'), ('British', 'ADJ'), ('industrial', 'ADJ'), ('conglomerate', 'NOUN'), ('.', '.')], [('A', 'DET'), ('form', 'NOUN'), ('of', 'ADP'), ('asbestos', 'NOUN'), ('once', 'ADV'), ('used', 'VERB'), ('*', 'X'), ('*', 'X'), ('to', 'PRT'), ('make', 'VERB'), ('Kent', 'NOUN'), ('cigarette', 'NOUN'), ('filters', 'NOUN'), ('has', 'VERB'), ('caused', 'VERB'), ('a', 'DET'), ('high', 'ADJ'), ('percentage', 'NOUN'), ('of', 'ADP'), ('cancer', 'NOUN'), ('deaths', 'NOUN'), ('among', 'ADP'), ('a', 'DET'), ('group', 'NOUN'), ('of', 'ADP'), ('workers', 'NOUN'), ('exposed', 'VERB'), ('*', 'X'), ('to', 'PRT'), ('it', 'PRON'), ('more', 'ADV'), ('than', 'ADP'), ('30', 'NUM'), ('years', 'NOUN'), ('ago', 'ADP'), (',', '.'), ('researchers', 'NOUN'), ('reported', 'VERB'), ('0', 'X'), ('*T*-1', 'X'), ('.', '.')], [('The', 'DET'), ('asbestos', 'NOUN'), ('fiber', 'NOUN'), (',', '.'), ('crocidolite', 'NOUN'), (',', '.'), ('is', 'VERB'), ('unusually', 'ADV'), ('resilient', 'ADJ'), ('once', 'ADP'), ('it', 'PRON'), ('enters', 'VERB'), ('the', 'DET'), ('lungs', 'NOUN'), (',', '.'), ('with', 'ADP'), ('even', 'ADV'), ('brief', 'ADJ'), ('exposures', 'NOUN'), ('to', 'PRT'), ('it', 'PRON'), ('causing', 'VERB'), ('symptoms', 'NOUN'), ('that', 'DET'), ('*T*-1', 'X'), ('show', 'VERB'), ('up', 'PRT'), ('decades', 'NOUN'), ('later', 'ADJ'), (',', '.'), ('researchers', 'NOUN'), ('said', 'VERB'), ('0', 'X'), ('*T*-2', 'X'), ('.', '.')], [('Lorillard', 'NOUN'), ('Inc.', 'NOUN'), (',', '.'), ('the', 'DET'), ('unit', 'NOUN'), ('of', 'ADP'), ('New', 'ADJ'), ('York-based', 'ADJ'), ('Loews', 'NOUN'), ('Corp.', 'NOUN'), ('that', 'DET'), ('*T*-2', 'X'), ('makes', 'VERB'), ('Kent', 'NOUN'), ('cigarettes', 'NOUN'), (',', '.'), ('stopped', 'VERB'), ('using', 'VERB'), ('crocidolite', 'NOUN'), ('in', 'ADP'), ('its', 'PRON'), ('Micronite', 'NOUN'), ('cigarette', 'NOUN'), ('filters', 'NOUN'), ('in', 'ADP'), ('1956', 'NUM'), ('.', '.')], [('Although', 'ADP'), ('preliminary', 'ADJ'), ('findings', 'NOUN'), ('were', 'VERB'), ('reported', 'VERB'), ('*-2', 'X'), ('more', 'ADV'), ('than', 'ADP'), ('a', 'DET'), ('year', 'NOUN'), ('ago', 'ADP'), (',', '.'), ('the', 'DET'), ('latest', 'ADJ'), ('results', 'NOUN'), ('appear', 'VERB'), ('in', 'ADP'), ('today', 'NOUN'), (\"'s\", 'PRT'), ('New', 'NOUN'), ('England', 'NOUN'), ('Journal', 'NOUN'), ('of', 'ADP'), ('Medicine', 'NOUN'), (',', '.'), ('a', 'DET'), ('forum', 'NOUN'), ('likely', 'ADJ'), ('*', 'X'), ('to', 'PRT'), ('bring', 'VERB'), ('new', 'ADJ'), ('attention', 'NOUN'), ('to', 'PRT'), ('the', 'DET'), ('problem', 'NOUN'), ('.', '.')], [('A', 'DET'), ('Lorillard', 'NOUN'), ('spokewoman', 'NOUN'), ('said', 'VERB'), (',', '.'), ('``', '.'), ('This', 'DET'), ('is', 'VERB'), ('an', 'DET'), ('old', 'ADJ'), ('story', 'NOUN'), ('.', '.')], [('We', 'PRON'), (\"'re\", 'VERB'), ('talking', 'VERB'), ('about', 'ADP'), ('years', 'NOUN'), ('ago', 'ADP'), ('before', 'ADP'), ('anyone', 'NOUN'), ('heard', 'VERB'), ('of', 'ADP'), ('asbestos', 'NOUN'), ('having', 'VERB'), ('any', 'DET'), ('questionable', 'ADJ'), ('properties', 'NOUN'), ('.', '.')], [('There', 'DET'), ('is', 'VERB'), ('no', 'DET'), ('asbestos', 'NOUN'), ('in', 'ADP'), ('our', 'PRON'), ('products', 'NOUN'), ('now', 'ADV'), ('.', '.'), (\"''\", '.')], [('Neither', 'DET'), ('Lorillard', 'NOUN'), ('nor', 'CONJ'), ('the', 'DET'), ('researchers', 'NOUN'), ('who', 'PRON'), ('*T*-3', 'X'), ('studied', 'VERB'), ('the', 'DET'), ('workers', 'NOUN'), ('were', 'VERB'), ('aware', 'ADJ'), ('of', 'ADP'), ('any', 'DET'), ('research', 'NOUN'), ('on', 'ADP'), ('smokers', 'NOUN'), ('of', 'ADP'), ('the', 'DET'), ('Kent', 'NOUN'), ('cigarettes', 'NOUN'), ('.', '.')], [('``', '.'), ('We', 'PRON'), ('have', 'VERB'), ('no', 'DET'), ('useful', 'ADJ'), ('information', 'NOUN'), ('on', 'ADP'), ('whether', 'ADP'), ('users', 'NOUN'), ('are', 'VERB'), ('at', 'ADP'), ('risk', 'NOUN'), (',', '.'), (\"''\", '.'), ('said', 'VERB'), ('*T*-1', 'X'), ('James', 'NOUN'), ('A.', 'NOUN'), ('Talcott', 'NOUN'), ('of', 'ADP'), ('Boston', 'NOUN'), (\"'s\", 'PRT'), ('Dana-Farber', 'NOUN'), ('Cancer', 'NOUN'), ('Institute', 'NOUN'), ('.', '.')], [('Dr.', 'NOUN'), ('Talcott', 'NOUN'), ('led', 'VERB'), ('a', 'DET'), ('team', 'NOUN'), ('of', 'ADP'), ('researchers', 'NOUN'), ('from', 'ADP'), ('the', 'DET'), ('National', 'NOUN'), ('Cancer', 'NOUN'), ('Institute', 'NOUN'), ('and', 'CONJ'), ('the', 'DET'), ('medical', 'ADJ'), ('schools', 'NOUN'), ('of', 'ADP'), ('Harvard', 'NOUN'), ('University', 'NOUN'), ('and', 'CONJ'), ('Boston', 'NOUN'), ('University', 'NOUN'), ('.', '.')], [('The', 'DET'), ('Lorillard', 'NOUN'), ('spokeswoman', 'NOUN'), ('said', 'VERB'), ('0', 'X'), ('asbestos', 'NOUN'), ('was', 'VERB'), ('used', 'VERB'), ('*-1', 'X'), ('in', 'ADP'), ('``', '.'), ('very', 'ADV'), ('modest', 'ADJ'), ('amounts', 'NOUN'), (\"''\", '.'), ('in', 'ADP'), ('*', 'X'), ('making', 'VERB'), ('paper', 'NOUN'), ('for', 'ADP'), ('the', 'DET'), ('filters', 'NOUN'), ('in', 'ADP'), ('the', 'DET'), ('early', 'ADJ'), ('1950s', 'NUM'), ('and', 'CONJ'), ('replaced', 'VERB'), ('*-1', 'X'), ('with', 'ADP'), ('a', 'DET'), ('different', 'ADJ'), ('type', 'NOUN'), ('of', 'ADP'), ('filter', 'NOUN'), ('in', 'ADP'), ('1956', 'NUM'), ('.', '.')], [('From', 'ADP'), ('1953', 'NUM'), ('to', 'PRT'), ('1955', 'NUM'), (',', '.'), ('9.8', 'NUM'), ('billion', 'NUM'), ('Kent', 'NOUN'), ('cigarettes', 'NOUN'), ('with', 'ADP'), ('the', 'DET'), ('filters', 'NOUN'), ('were', 'VERB'), ('sold', 'VERB'), ('*-3', 'X'), (',', '.'), ('the', 'DET'), ('company', 'NOUN'), ('said', 'VERB'), ('0', 'X'), ('*T*-1', 'X'), ('.', '.')], [('Among', 'ADP'), ('33', 'NUM'), ('men', 'NOUN'), ('who', 'PRON'), ('*T*-4', 'X'), ('worked', 'VERB'), ('closely', 'ADV'), ('with', 'ADP'), ('the', 'DET'), ('substance', 'NOUN'), (',', '.'), ('28', 'NUM'), ('*ICH*-1', 'X'), ('have', 'VERB'), ('died', 'VERB'), ('--', '.'), ('more', 'ADJ'), ('than', 'ADP'), ('three', 'NUM'), ('times', 'NOUN'), ('the', 'DET'), ('expected', 'VERB'), ('number', 'NOUN'), ('.', '.')], [('Four', 'NUM'), ('of', 'ADP'), ('the', 'DET'), ('five', 'NUM'), ('surviving', 'VERB'), ('workers', 'NOUN'), ('have', 'VERB'), ('asbestos-related', 'ADJ'), ('diseases', 'NOUN'), (',', '.'), ('including', 'VERB'), ('three', 'NUM'), ('with', 'ADP'), ('recently', 'ADV'), ('diagnosed', 'VERB'), ('cancer', 'NOUN'), ('.', '.')], [('The', 'DET'), ('total', 'NOUN'), ('of', 'ADP'), ('18', 'NUM'), ('deaths', 'NOUN'), ('from', 'ADP'), ('malignant', 'ADJ'), ('mesothelioma', 'NOUN'), (',', '.'), ('lung', 'NOUN'), ('cancer', 'NOUN'), ('and', 'CONJ'), ('asbestosis', 'NOUN'), ('was', 'VERB'), ('far', 'ADV'), ('higher', 'ADJ'), ('than', 'ADP'), ('*', 'X'), ('expected', 'VERB'), ('*?*', 'X'), (',', '.'), ('the', 'DET'), ('researchers', 'NOUN'), ('said', 'VERB'), ('0', 'X'), ('*T*-1', 'X'), ('.', '.')], [('``', '.'), ('The', 'DET'), ('morbidity', 'NOUN'), ('rate', 'NOUN'), ('is', 'VERB'), ('a', 'DET'), ('striking', 'ADJ'), ('finding', 'NOUN'), ('among', 'ADP'), ('those', 'DET'), ('of', 'ADP'), ('us', 'PRON'), ('who', 'PRON'), ('*T*-5', 'X'), ('study', 'VERB'), ('asbestos-related', 'ADJ'), ('diseases', 'NOUN'), (',', '.'), (\"''\", '.'), ('said', 'VERB'), ('*T*-1', 'X'), ('Dr.', 'NOUN'), ('Talcott', 'NOUN'), ('.', '.')], [('The', 'DET'), ('percentage', 'NOUN'), ('of', 'ADP'), ('lung', 'NOUN'), ('cancer', 'NOUN'), ('deaths', 'NOUN'), ('among', 'ADP'), ('the', 'DET'), ('workers', 'NOUN'), ('at', 'ADP'), ('the', 'DET'), ('West', 'NOUN'), ('Groton', 'NOUN'), (',', '.'), ('Mass.', 'NOUN'), (',', '.'), ('paper', 'NOUN'), ('factory', 'NOUN'), ('appears', 'VERB'), ('*-1', 'X'), ('to', 'PRT'), ('be', 'VERB'), ('the', 'DET'), ('highest', 'ADJ'), ('for', 'ADP'), ('any', 'DET'), ('asbestos', 'NOUN'), ('workers', 'NOUN'), ('studied', 'VERB'), ('*', 'X'), ('in', 'ADP'), ('Western', 'ADJ'), ('industrialized', 'VERB'), ('countries', 'NOUN'), (',', '.'), ('he', 'PRON'), ('said', 'VERB'), ('0', 'X'), ('*T*-2', 'X'), ('.', '.')]]\n"
     ]
    }
   ],
   "source": [
    "# first few tagged sentences\n",
    "print(nltk_data[:20])"
   ]
  },
  {
   "cell_type": "code",
   "execution_count": 4,
   "metadata": {},
   "outputs": [
    {
     "name": "stdout",
     "output_type": "stream",
     "text": [
      "3718\n",
      "196\n",
      "[[('Several', 'ADJ'), ('years', 'NOUN'), ('ago', 'ADP'), ('he', 'PRON'), ('gave', 'VERB'), ('up', 'PRT'), ('*-3', 'X'), ('trying', 'VERB'), ('*-1', 'X'), ('to', 'PRT'), ('persuade', 'VERB'), ('Miami', 'NOUN'), ('*-2', 'X'), ('to', 'PRT'), ('improve', 'VERB'), ('its', 'PRON'), ('city-owned', 'ADJ'), ('Orange', 'NOUN'), ('Bowl', 'NOUN'), (',', '.'), ('and', 'CONJ'), ('instead', 'ADV'), ('built', 'VERB'), ('his', 'PRON'), ('own', 'ADJ'), ('$', '.'), ('100', 'NUM'), ('million', 'NUM'), ('*U*', 'X'), ('coliseum', 'NOUN'), ('with', 'ADP'), ('private', 'ADJ'), ('funds', 'NOUN'), ('.', '.')], [('In', 'ADP'), ('this', 'DET'), ('one', 'NOUN'), (',', '.'), ('the', 'DET'), ('screen', 'NOUN'), ('fills', 'VERB'), ('with', 'ADP'), ('photographs', 'NOUN'), ('of', 'ADP'), ('both', 'DET'), ('candidates', 'NOUN'), ('.', '.')], [('The', 'DET'), ('materials', 'NOUN'), ('in', 'ADP'), ('each', 'DET'), ('set', 'NOUN'), ('reach', 'VERB'), ('about', 'ADP'), ('90', 'NUM'), ('students', 'NOUN'), ('.', '.')], [('That', 'DET'), ('sounds', 'VERB'), ('neat', 'ADJ'), (',', '.'), ('but', 'CONJ'), ('this', 'DET'), ('government', 'NOUN'), ('--', '.'), ('any', 'DET'), ('government', 'NOUN'), ('--', '.'), ('propagandizes', 'VERB'), ('its', 'PRON'), ('own', 'ADJ'), ('people', 'NOUN'), ('every', 'DET'), ('day', 'NOUN'), ('.', '.')], [('The', 'DET'), ('rest', 'NOUN'), ('went', 'VERB'), ('to', 'PRT'), ('investors', 'NOUN'), ('from', 'ADP'), ('France', 'NOUN'), ('and', 'CONJ'), ('Hong', 'NOUN'), ('Kong', 'NOUN'), ('.', '.')], [('The', 'DET'), ('documents', 'NOUN'), ('also', 'ADV'), ('said', 'VERB'), ('that', 'ADP'), ('although', 'ADP'), ('the', 'DET'), ('64-year-old', 'ADJ'), ('Mr.', 'NOUN'), ('Cray', 'NOUN'), ('has', 'VERB'), ('been', 'VERB'), ('working', 'VERB'), ('on', 'ADP'), ('the', 'DET'), ('project', 'NOUN'), ('for', 'ADP'), ('more', 'ADV'), ('than', 'ADP'), ('six', 'NUM'), ('years', 'NOUN'), (',', '.'), ('the', 'DET'), ('Cray-3', 'NOUN'), ('machine', 'NOUN'), ('is', 'VERB'), ('at', 'ADP'), ('least', 'ADJ'), ('another', 'DET'), ('year', 'NOUN'), ('away', 'ADV'), ('from', 'ADP'), ('a', 'DET'), ('fully', 'ADV'), ('operational', 'ADJ'), ('prototype', 'NOUN'), ('.', '.')], [('Stephen', 'NOUN'), ('Akerfeldt', 'NOUN'), (',', '.'), ('currently', 'ADV'), ('vice', 'NOUN'), ('president', 'NOUN'), ('finance', 'NOUN'), (',', '.'), ('will', 'VERB'), ('succeed', 'VERB'), ('Mr.', 'NOUN'), ('McAlpine', 'NOUN'), ('.', '.')], [('On', 'ADP'), ('one', 'NUM'), ('side', 'NOUN'), ('of', 'ADP'), ('this', 'DET'), ('power', 'NOUN'), ('struggle', 'NOUN'), ('stand', 'VERB'), ('*T*-1', 'X'), ('the', 'DET'), ('forces', 'NOUN'), ('in', 'ADP'), ('ascendency', 'NOUN'), ('on', 'ADP'), ('Wall', 'NOUN'), ('Street', 'NOUN'), ('--', '.'), ('the', 'DET'), ('New', 'NOUN'), ('Guard', 'NOUN'), ('--', '.'), ('consisting', 'VERB'), ('of', 'ADP'), ('high-tech', 'ADJ'), ('computer', 'NOUN'), ('wizards', 'NOUN'), ('at', 'ADP'), ('the', 'DET'), ('major', 'ADJ'), ('brokerage', 'NOUN'), ('firms', 'NOUN'), (',', '.'), ('their', 'PRON'), ('pension', 'NOUN'), ('fund', 'NOUN'), ('clients', 'NOUN'), ('with', 'ADP'), ('immense', 'NOUN'), ('pools', 'NOUN'), ('of', 'ADP'), ('money', 'NOUN'), (',', '.'), ('and', 'CONJ'), ('the', 'DET'), ('traders', 'NOUN'), ('at', 'ADP'), ('the', 'DET'), ('fast-growing', 'ADJ'), ('Chicago', 'NOUN'), ('futures', 'NOUN'), ('exchanges', 'NOUN'), ('.', '.')], [('The', 'DET'), ('reruns', 'NOUN'), ('have', 'VERB'), ('helped', 'VERB'), ('ratings', 'NOUN'), ('at', 'ADP'), ('many', 'ADJ'), ('of', 'ADP'), ('the', 'DET'), ('187', 'NUM'), ('network', 'NOUN'), ('affiliates', 'NOUN'), ('and', 'CONJ'), ('independent', 'ADJ'), ('TV', 'NOUN'), ('stations', 'NOUN'), ('that', 'DET'), ('*T*-150', 'X'), ('air', 'VERB'), ('the', 'DET'), ('shows', 'NOUN'), ('.', '.')], [('LONDON', 'NOUN'), ('LATE', 'ADV'), ('EURODOLLARS', 'NOUN'), (':', '.'), ('8', 'NUM'), ('3\\\\/4', 'NUM'), ('%', 'NOUN'), ('to', 'PRT'), ('8', 'NUM'), ('5\\\\/8', 'NUM'), ('%', 'NOUN'), ('*U*', 'X'), ('one', 'NUM'), ('month', 'NOUN'), (';', '.'), ('8', 'NUM'), ('13\\\\/16', 'NUM'), ('%', 'NOUN'), ('to', 'PRT'), ('8', 'NUM'), ('11\\\\/16', 'NUM'), ('%', 'NOUN'), ('*U*', 'X'), ('two', 'NUM'), ('months', 'NOUN'), (';', '.'), ('8', 'NUM'), ('3\\\\/4', 'NUM'), ('%', 'NOUN'), ('to', 'PRT'), ('8', 'NUM'), ('5\\\\/8', 'NUM'), ('%', 'NOUN'), ('*U*', 'X'), ('three', 'NUM'), ('months', 'NOUN'), (';', '.'), ('8', 'NUM'), ('5\\\\/8', 'NUM'), ('%', 'NOUN'), ('to', 'PRT'), ('8', 'NUM'), ('1\\\\/2', 'NUM'), ('%', 'NOUN'), ('*U*', 'X'), ('four', 'NUM'), ('months', 'NOUN'), (';', '.'), ('8', 'NUM'), ('1\\\\/2', 'NUM'), ('%', 'NOUN'), ('to', 'PRT'), ('8', 'NUM'), ('7\\\\/16', 'NUM'), ('%', 'NOUN'), ('*U*', 'X'), ('five', 'NUM'), ('months', 'NOUN'), (';', '.'), ('8', 'NUM'), ('1\\\\/2', 'NUM'), ('%', 'NOUN'), ('to', 'PRT'), ('8', 'NUM'), ('3\\\\/8', 'NUM'), ('%', 'NOUN'), ('*U*', 'X'), ('six', 'NUM'), ('months', 'NOUN'), ('.', '.')], [('*', 'X'), ('Determining', 'VERB'), ('that', 'DET'), ('may', 'VERB'), ('enable', 'VERB'), ('them', 'PRON'), ('to', 'PRT'), ('develop', 'VERB'), ('better', 'ADJ'), ('ways', 'NOUN'), ('0', 'X'), ('*', 'X'), ('to', 'PRT'), ('introduce', 'VERB'), ('the', 'DET'), ('needed', 'VERB'), ('crystal-lattice', 'NOUN'), ('patterns', 'NOUN'), ('*T*-1', 'X'), ('.', '.')], [('Subcontractors', 'NOUN'), ('will', 'VERB'), ('be', 'VERB'), ('offered', 'VERB'), ('*-1', 'X'), ('a', 'DET'), ('settlement', 'NOUN'), ('and', 'CONJ'), ('a', 'DET'), ('swift', 'NOUN'), ('transition', 'NOUN'), ('to', 'PRT'), ('new', 'ADJ'), ('management', 'NOUN'), ('is', 'VERB'), ('expected', 'VERB'), ('*-2', 'X'), ('to', 'PRT'), ('avert', 'VERB'), ('an', 'DET'), ('exodus', 'NOUN'), ('of', 'ADP'), ('skilled', 'ADJ'), ('workers', 'NOUN'), ('from', 'ADP'), ('Waertsilae', 'NOUN'), ('Marine', 'NOUN'), (\"'s\", 'PRT'), ('two', 'NUM'), ('big', 'ADJ'), ('shipyards', 'NOUN'), (',', '.'), ('government', 'NOUN'), ('officials', 'NOUN'), ('said', 'VERB'), ('0', 'X'), ('*T*-3', 'X'), ('.', '.')], [('The', 'DET'), ('monthly', 'ADJ'), ('sales', 'NOUN'), ('have', 'VERB'), ('been', 'VERB'), ('setting', 'VERB'), ('records', 'NOUN'), ('every', 'DET'), ('month', 'NOUN'), ('since', 'ADP'), ('March', 'NOUN'), ('.', '.')], [('``', '.'), ('*', 'X'), ('Forget', 'VERB'), ('it', 'PRON'), (',', '.'), (\"''\", '.'), ('he', 'PRON'), ('said', 'VERB'), ('*T*-1', 'X'), ('as', 'ADP'), ('he', 'PRON'), ('handed', 'VERB'), ('her', 'PRON'), ('a', 'DET'), ('paper', 'NOUN'), ('.', '.')], [('University', 'NOUN'), ('Patents', 'NOUN'), ('Inc.', 'NOUN'), (',', '.'), ('based', 'VERB'), ('*', 'X'), ('in', 'ADP'), ('Westport', 'NOUN'), (',', '.'), ('Conn.', 'NOUN'), (',', '.'), ('said', 'VERB'), ('0', 'X'), ('it', 'PRON'), ('seeks', 'VERB'), ('Johnson', 'NOUN'), ('&', 'CONJ'), ('Johnson', 'NOUN'), (\"'s\", 'PRT'), ('profits', 'NOUN'), ('from', 'ADP'), ('sales', 'NOUN'), ('of', 'ADP'), ('Retin-A', 'NOUN'), (',', '.'), ('estimated', 'VERB'), ('*', 'X'), ('at', 'ADP'), ('$', '.'), ('50', 'NUM'), ('million', 'NUM'), ('*U*', 'X'), (',', '.'), ('a', 'DET'), ('similar', 'ADJ'), ('amount', 'NOUN'), ('of', 'ADP'), ('punitive', 'ADJ'), ('damages', 'NOUN'), ('and', 'CONJ'), ('the', 'DET'), ('right', 'NOUN'), ('*', 'X'), ('to', 'PRT'), ('license', 'VERB'), ('Retin-A', 'NOUN'), ('elsewhere', 'ADV'), ('.', '.')], [('Wedtech', 'NOUN'), (\"'s\", 'PRT'), ('scammers', 'NOUN'), ('simply', 'ADV'), ('bribed', 'VERB'), ('them', 'PRON'), ('to', 'PRT'), ('shut', 'VERB'), ('up', 'ADP'), ('.', '.')], [('It', 'PRON'), (\"'s\", 'VERB'), ('a', 'DET'), ('classic', 'ADJ'), ('situation', 'NOUN'), ('of', 'ADP'), ('ads', 'NOUN'), ('that', 'DET'), ('*T*-75', 'X'), ('are', 'VERB'), ('true', 'ADJ'), ('but', 'CONJ'), ('not', 'ADV'), ('always', 'ADV'), ('fully', 'ADV'), ('accurate', 'ADJ'), ('.', '.')], [('``', '.'), ('The', 'DET'), ('disturbing', 'ADJ'), ('thing', 'NOUN'), ('about', 'ADP'), ('this', 'DET'), ('abortion', 'NOUN'), ('issue', 'NOUN'), ('is', 'VERB'), ('that', 'ADP'), ('the', 'DET'), ('debate', 'NOUN'), ('has', 'VERB'), ('become', 'VERB'), ('polarized', 'VERB'), ('*-1', 'X'), (',', '.'), ('so', 'ADP'), ('that', 'ADP'), ('no', 'DET'), ('mechanism', 'NOUN'), ('*ICH*-2', 'X'), ('exists', 'VERB'), (\"''\", '.'), ('for', 'ADP'), ('*', 'X'), ('finding', 'VERB'), ('a', 'DET'), ('middle', 'ADJ'), ('ground', 'NOUN'), ('.', '.')], [('Viacom', 'NOUN'), (\"'s\", 'PRT'), ('move', 'NOUN'), ('comes', 'VERB'), ('as', 'ADP'), ('the', 'DET'), ('syndication', 'NOUN'), ('market', 'NOUN'), ('is', 'VERB'), ('being', 'VERB'), ('flooded', 'VERB'), ('*-76', 'X'), ('with', 'ADP'), ('situation', 'NOUN'), ('comedies', 'NOUN'), ('that', 'DET'), ('*T*-152', 'X'), ('are', 'VERB'), ('still', 'ADV'), ('running', 'VERB'), ('on', 'ADP'), ('the', 'DET'), ('networks', 'NOUN'), ('.', '.')], [('Komatsu', 'NOUN'), ('Ltd.', 'NOUN'), (',', '.'), ('a', 'DET'), ('large', 'ADJ'), ('integrated', 'VERB'), ('maker', 'NOUN'), ('of', 'ADP'), ('construction', 'NOUN'), ('machinery', 'NOUN'), (',', '.'), ('posted', 'VERB'), ('a', 'DET'), ('32', 'NUM'), ('%', 'NOUN'), ('unconsolidated', 'ADJ'), ('gain', 'NOUN'), ('in', 'ADP'), ('first-half', 'ADJ'), ('pretax', 'NOUN'), ('profit', 'NOUN'), ('.', '.')], [('Both', 'DET'), ('indicators', 'NOUN'), ('were', 'VERB'), ('viewed', 'VERB'), ('*-1', 'X'), ('as', 'ADP'), ('signs', 'NOUN'), ('that', 'ADP'), ('the', 'DET'), ('nation', 'NOUN'), (\"'s\", 'PRT'), ('industrial', 'ADJ'), ('sector', 'NOUN'), ('is', 'VERB'), ('growing', 'VERB'), ('very', 'ADV'), ('slowly', 'ADV'), (',', '.'), ('if', 'ADP'), ('at', 'ADP'), ('all', 'DET'), ('.', '.')], [('In', 'ADP'), ('a', 'DET'), ('recent', 'ADJ'), ('report', 'NOUN'), (',', '.'), ('the', 'DET'), ('Institute', 'NOUN'), ('of', 'ADP'), ('Medicine', 'NOUN'), ('pointed', 'VERB'), ('out', 'PRT'), ('that', 'ADP'), ('certain', 'ADJ'), ('health', 'NOUN'), ('problems', 'NOUN'), ('may', 'VERB'), ('predispose', 'VERB'), ('a', 'DET'), ('person', 'NOUN'), ('to', 'PRT'), ('homelessness', 'NOUN'), (',', '.'), ('others', 'NOUN'), ('may', 'VERB'), ('be', 'VERB'), ('a', 'DET'), ('consequence', 'NOUN'), ('of', 'ADP'), ('it', 'PRON'), (',', '.'), ('and', 'CONJ'), ('a', 'DET'), ('third', 'ADJ'), ('category', 'NOUN'), ('is', 'VERB'), ('composed', 'VERB'), ('*-19', 'X'), ('of', 'ADP'), ('disorders', 'NOUN'), ('whose', 'PRON'), ('treatment', 'NOUN'), ('*T*-15', 'X'), ('is', 'VERB'), ('difficult', 'ADJ'), ('or', 'CONJ'), ('impossible', 'ADJ'), ('if', 'ADP'), ('a', 'DET'), ('person', 'NOUN'), ('lacks', 'VERB'), ('adequate', 'ADJ'), ('shelter', 'NOUN'), ('.', '.')], [('Imports', 'NOUN'), ('of', 'ADP'), ('manmade-fiber', 'ADJ'), ('sweaters', 'NOUN'), ('in', 'ADP'), ('1988', 'NUM'), ('totaled', 'VERB'), ('about', 'ADP'), ('$', '.'), ('405', 'NUM'), ('million', 'NUM'), ('*U*', 'X'), ('from', 'ADP'), ('Taiwan', 'NOUN'), (',', '.'), ('$', '.'), ('400', 'NUM'), ('million', 'NUM'), ('*U*', 'X'), ('from', 'ADP'), ('South', 'NOUN'), ('Korea', 'NOUN'), ('and', 'CONJ'), ('$', '.'), ('125', 'NUM'), ('million', 'NUM'), ('*U*', 'X'), ('from', 'ADP'), ('Hong', 'NOUN'), ('Kong', 'NOUN'), (',', '.'), ('according', 'VERB'), ('to', 'PRT'), ('the', 'DET'), ('ITC', 'NOUN'), ('.', '.')], [('The', 'DET'), ('Perch', 'NOUN'), ('and', 'CONJ'), ('Dolphin', 'NOUN'), ('fields', 'NOUN'), ('are', 'VERB'), ('expected', 'VERB'), ('*-3', 'X'), ('to', 'PRT'), ('start', 'VERB'), ('*-1', 'X'), ('producing', 'VERB'), ('early', 'ADJ'), ('next', 'ADJ'), ('year', 'NOUN'), (',', '.'), ('and', 'CONJ'), ('the', 'DET'), ('Seahorse', 'NOUN'), ('and', 'CONJ'), ('Tarwhine', 'NOUN'), ('fields', 'NOUN'), ('later', 'ADJ'), ('next', 'ADJ'), ('year', 'NOUN'), ('.', '.')], [('The', 'DET'), ('consumer', 'NOUN'), ('confidence', 'NOUN'), ('survey', 'NOUN'), (',', '.'), ('*-2', 'X'), ('covering', 'VERB'), ('5,000', 'NUM'), ('U.S.', 'NOUN'), ('households', 'NOUN'), (',', '.'), ('is', 'VERB'), ('conducted', 'VERB'), ('*-2', 'X'), ('in', 'ADP'), ('the', 'DET'), ('first', 'ADJ'), ('two', 'NUM'), ('weeks', 'NOUN'), ('of', 'ADP'), ('each', 'DET'), ('month', 'NOUN'), ('for', 'ADP'), ('the', 'DET'), ('Conference', 'NOUN'), ('Board', 'NOUN'), ('by', 'ADP'), ('National', 'NOUN'), ('Family', 'NOUN'), ('Opinion', 'NOUN'), ('Inc.', 'NOUN'), (',', '.'), ('a', 'DET'), ('Toledo', 'NOUN'), (',', '.'), ('Ohio', 'NOUN'), (',', '.'), ('market', 'NOUN'), ('researcher', 'NOUN'), ('.', '.')], [('West', 'NOUN'), ('Texas', 'NOUN'), ('Intermediate', 'NOUN'), ('for', 'ADP'), ('December', 'NOUN'), ('delivery', 'NOUN'), ('advanced', 'VERB'), ('22', 'NUM'), ('cents', 'NOUN'), ('to', 'PRT'), ('$', '.'), ('19.94', 'NUM'), ('*U*', 'X'), ('a', 'DET'), ('barrel', 'NOUN'), ('.', '.')], [('The', 'DET'), ('Midwest', 'NOUN'), ('Financial', 'NOUN'), ('subsidiary', 'NOUN'), ('banks', 'NOUN'), ('will', 'VERB'), ('continue', 'VERB'), ('*-1', 'X'), ('to', 'PRT'), ('operate', 'VERB'), ('under', 'ADP'), ('their', 'PRON'), ('current', 'ADJ'), ('names', 'NOUN'), ('until', 'ADP'), ('early', 'ADJ'), ('1990', 'NUM'), (',', '.'), ('when', 'ADV'), ('each', 'DET'), ('will', 'VERB'), ('adopt', 'VERB'), ('the', 'DET'), ('First', 'NOUN'), ('of', 'ADP'), ('America', 'NOUN'), ('name', 'NOUN'), ('*T*-2', 'X'), ('.', '.')], [('But', 'CONJ'), ('it', 'PRON'), ('does', 'VERB'), (\"n't\", 'ADV'), ('take', 'VERB'), ('much', 'ADJ'), ('*', 'X'), ('to', 'PRT'), ('get', 'VERB'), ('burned', 'VERB'), ('*-1', 'X'), ('.', '.')], [('These', 'DET'), ('individuals', 'NOUN'), ('may', 'VERB'), ('not', 'ADV'), ('necessarily', 'ADV'), ('be', 'VERB'), ('under', 'ADP'), ('investigation', 'NOUN'), ('when', 'ADV'), ('they', 'PRON'), ('hire', 'VERB'), ('lawyers', 'NOUN'), ('*T*-1', 'X'), ('.', '.')], [('Program', 'NOUN'), ('trading', 'NOUN'), ('is', 'VERB'), ('here', 'ADV'), ('*-1', 'X'), ('to', 'PRT'), ('stay', 'VERB'), (',', '.'), ('and', 'CONJ'), ('computers', 'NOUN'), ('are', 'VERB'), ('here', 'ADV'), ('*-2', 'X'), ('to', 'PRT'), ('stay', 'VERB'), (',', '.'), ('and', 'CONJ'), ('we', 'PRON'), ('just', 'ADV'), ('need', 'VERB'), ('*-3', 'X'), ('to', 'PRT'), ('understand', 'VERB'), ('it', 'PRON'), ('.', '.'), (\"''\", '.')], [('Chateau', 'NOUN'), ('Yquem', 'NOUN'), (',', '.'), ('the', 'DET'), ('leading', 'VERB'), ('Sauternes', 'NOUN'), (',', '.'), ('now', 'ADV'), ('goes', 'VERB'), ('for', 'ADP'), ('well', 'ADV'), ('over', 'ADV'), ('$', '.'), ('100', 'NUM'), ('*U*', 'X'), ('a', 'DET'), ('bottle', 'NOUN'), ('for', 'ADP'), ('a', 'DET'), ('lighter', 'ADJ'), ('vintage', 'NOUN'), ('like', 'ADP'), ('1984', 'NUM'), (';', '.'), ('the', 'DET'), ('spectacularly', 'ADV'), ('rich', 'ADJ'), ('1983', 'NUM'), ('runs', 'VERB'), ('$', '.'), ('179', 'NUM'), ('*U*', 'X'), ('.', '.')], [('Ed', 'NOUN'), ('Macheski', 'NOUN'), (',', '.'), ('a', 'DET'), ('Wilton', 'NOUN'), (',', '.'), ('Conn.', 'NOUN'), (',', '.'), ('money', 'NOUN'), ('manager', 'NOUN'), ('who', 'PRON'), ('*T*-120', 'X'), ('follows', 'VERB'), ('bank', 'NOUN'), ('stocks', 'NOUN'), (',', '.'), ('said', 'VERB'), ('0', 'X'), ('the', 'DET'), ('announcement', 'NOUN'), ('effectively', 'ADV'), ('gives', 'VERB'), ('the', 'DET'), ('deal', 'NOUN'), ('``', '.'), ('the', 'DET'), ('green', 'ADJ'), ('light', 'NOUN'), ('.', '.'), (\"''\", '.')], [('THE', 'DET'), ('WAR', 'NOUN'), ('OVER', 'ADP'), ('FEDERAL', 'ADJ'), ('JUDICIAL', 'ADJ'), ('SALARIES', 'NOUN'), ('takes', 'VERB'), ('a', 'DET'), ('victim', 'NOUN'), ('.', '.')], [('``', '.'), ('It', 'PRON'), ('has', 'VERB'), ('*-2', 'X'), ('to', 'PRT'), ('be', 'VERB'), ('considered', 'VERB'), ('*-21', 'X'), ('as', 'ADP'), ('an', 'DET'), ('additional', 'ADJ'), ('risk', 'NOUN'), ('for', 'ADP'), ('the', 'DET'), ('investor', 'NOUN'), (',', '.'), (\"''\", '.'), ('said', 'VERB'), ('*T*-1', 'X'), ('Gary', 'NOUN'), ('P.', 'NOUN'), ('Smaby', 'NOUN'), ('of', 'ADP'), ('Smaby', 'NOUN'), ('Group', 'NOUN'), ('Inc.', 'NOUN'), (',', '.'), ('Minneapolis', 'NOUN'), ('.', '.')], [('Bell', 'NOUN'), (\"'s\", 'PRT'), ('father-in-law', 'NOUN'), (',', '.'), ('Gardner', 'NOUN'), ('G.', 'NOUN'), ('Hubbard', 'NOUN'), (',', '.'), ('wealthy', 'ADJ'), ('and', 'CONJ'), ('well-connected', 'ADJ'), (',', '.'), ('obtained', 'VERB'), ('financing', 'NOUN'), ('0', 'X'), ('*T*-1', 'X'), ('to', 'PRT'), ('start', 'VERB'), ('the', 'DET'), ('American', 'NOUN'), ('Bell', 'NOUN'), ('Telephone', 'NOUN'), ('Co.', 'NOUN'), ('in', 'ADP'), ('Boston', 'NOUN'), (',', '.'), ('which', 'DET'), ('*T*-2', 'X'), ('even', 'ADV'), ('had', 'VERB'), ('a', 'DET'), ('subsidiary', 'NOUN'), ('in', 'ADP'), ('New', 'NOUN'), ('York', 'NOUN'), ('called', 'VERB'), ('*', 'X'), ('the', 'DET'), ('Telephone', 'NOUN'), ('Co.', 'NOUN'), ('of', 'ADP'), ('New', 'NOUN'), ('York', 'NOUN'), ('.', '.')], [('Some', 'DET'), ('analysts', 'NOUN'), ('are', 'VERB'), ('worried', 'VERB'), ('that', 'ADP'), ('reports', 'NOUN'), ('of', 'ADP'), ('the', 'DET'), ('grain', 'NOUN'), ('industry', 'NOUN'), (\"'s\", 'PRT'), ('problems', 'NOUN'), ('might', 'VERB'), ('spark', 'VERB'), ('investors', 'NOUN'), ('to', 'PRT'), ('begin', 'VERB'), ('*-1', 'X'), ('buying', 'VERB'), ('corn', 'NOUN'), ('futures', 'NOUN'), ('contracts', 'NOUN'), ('--', '.'), ('*-2', 'X'), ('only', 'ADV'), ('to', 'PRT'), ('see', 'VERB'), ('little', 'ADJ'), ('appreciation', 'NOUN'), ('.', '.')], [('The', 'DET'), ('Chicago', 'NOUN'), ('report', 'NOUN'), ('raised', 'VERB'), ('the', 'DET'), ('possibility', 'NOUN'), ('that', 'ADP'), ('the', 'DET'), ('October', 'NOUN'), ('survey', 'NOUN'), ('of', 'ADP'), ('the', 'DET'), ('National', 'NOUN'), ('Association', 'NOUN'), ('of', 'ADP'), ('Purchasing', 'NOUN'), ('Management', 'NOUN'), ('would', 'VERB'), ('also', 'ADV'), ('show', 'VERB'), ('a', 'DET'), ('reading', 'NOUN'), ('above', 'ADP'), ('50', 'NUM'), ('%', 'NOUN'), ('.', '.')], [('``', '.'), ('If', 'ADP'), ('they', 'PRON'), ('approach', 'VERB'), ('it', 'PRON'), ('with', 'ADP'), ('a', 'DET'), ('benevolent', 'ADJ'), (',', '.'), ('altruistic', 'ADJ'), ('attitude', 'NOUN'), (',', '.'), ('there', 'DET'), ('will', 'VERB'), ('be', 'VERB'), ('a', 'DET'), ('net', 'ADJ'), ('gain', 'NOUN'), ('for', 'ADP'), ('everyone', 'NOUN'), ('.', '.'), (\"''\", '.')], [('According', 'VERB'), ('to', 'PRT'), ('Audit', 'NOUN'), ('Bureau', 'NOUN'), ('of', 'ADP'), ('Circulations', 'NOUN'), (',', '.'), ('Time', 'NOUN'), (',', '.'), ('the', 'DET'), ('largest', 'ADJ'), ('newsweekly', 'ADV'), (',', '.'), ('had', 'VERB'), ('average', 'ADJ'), ('circulation', 'NOUN'), ('of', 'ADP'), ('4,393,237', 'NUM'), (',', '.'), ('a', 'DET'), ('decrease', 'NOUN'), ('of', 'ADP'), ('7.3', 'NUM'), ('%', 'NOUN'), ('.', '.')], [('And', 'CONJ'), (',', '.'), ('unlike', 'ADP'), ('a', 'DET'), ('few', 'ADJ'), ('years', 'NOUN'), ('ago', 'ADV'), (',', '.'), ('you', 'PRON'), ('do', 'VERB'), (\"n't\", 'ADV'), ('even', 'ADV'), ('have', 'VERB'), ('*-1', 'X'), ('to', 'PRT'), ('worry', 'VERB'), ('whether', 'ADP'), ('the', 'DET'), ('ad', 'NOUN'), ('is', 'VERB'), ('truthful', 'ADJ'), ('.', '.'), (\"''\", '.')]]\n"
     ]
    }
   ],
   "source": [
    "# Splitting into train and test\n",
    "random.seed(1234)\n",
    "train_set, test_set = train_test_split(nltk_data,test_size=0.05)\n",
    "\n",
    "print(len(train_set))\n",
    "print(len(test_set))\n",
    "print(train_set[:40])"
   ]
  },
  {
   "cell_type": "code",
   "execution_count": 5,
   "metadata": {},
   "outputs": [
    {
     "data": {
      "text/plain": [
       "95462"
      ]
     },
     "execution_count": 5,
     "metadata": {},
     "output_type": "execute_result"
    }
   ],
   "source": [
    "# Getting list of tagged words\n",
    "train_tagged_words = [tup for sent in train_set for tup in sent]\n",
    "len(train_tagged_words)"
   ]
  },
  {
   "cell_type": "code",
   "execution_count": 6,
   "metadata": {},
   "outputs": [
    {
     "data": {
      "text/plain": [
       "['Several', 'years', 'ago', 'he', 'gave', 'up', '*-3', 'trying', '*-1', 'to']"
      ]
     },
     "execution_count": 6,
     "metadata": {},
     "output_type": "execute_result"
    }
   ],
   "source": [
    "# tokens \n",
    "tokens = [pair[0] for pair in train_tagged_words]\n",
    "tokens[:10]"
   ]
  },
  {
   "cell_type": "code",
   "execution_count": 7,
   "metadata": {},
   "outputs": [
    {
     "name": "stdout",
     "output_type": "stream",
     "text": [
      "12055\n"
     ]
    }
   ],
   "source": [
    "# vocabulary\n",
    "V = set(tokens)\n",
    "print(len(V))"
   ]
  },
  {
   "cell_type": "code",
   "execution_count": 8,
   "metadata": {},
   "outputs": [
    {
     "data": {
      "text/plain": [
       "12"
      ]
     },
     "execution_count": 8,
     "metadata": {},
     "output_type": "execute_result"
    }
   ],
   "source": [
    "# number of tags\n",
    "T = set([pair[1] for pair in train_tagged_words])\n",
    "len(T)"
   ]
  },
  {
   "cell_type": "code",
   "execution_count": 9,
   "metadata": {},
   "outputs": [
    {
     "name": "stdout",
     "output_type": "stream",
     "text": [
      "{'PRT', 'PRON', 'X', 'ADJ', 'ADV', 'ADP', '.', 'CONJ', 'DET', 'NUM', 'NOUN', 'VERB'}\n"
     ]
    }
   ],
   "source": [
    "print(T)"
   ]
  },
  {
   "cell_type": "markdown",
   "metadata": {},
   "source": [
    "### Emission Probabilities"
   ]
  },
  {
   "cell_type": "code",
   "execution_count": 10,
   "metadata": {},
   "outputs": [],
   "source": [
    "# computing P(w/t) and storing in T x V matrix\n",
    "t = len(T)\n",
    "v = len(V)\n",
    "w_given_t = np.zeros((t, v))"
   ]
  },
  {
   "cell_type": "code",
   "execution_count": 11,
   "metadata": {},
   "outputs": [],
   "source": [
    "# compute word given tag: Emission Probability\n",
    "def word_given_tag(word, tag, train_bag = train_tagged_words):\n",
    "    tag_list = [pair for pair in train_bag if pair[1]==tag]\n",
    "    count_tag = len(tag_list)\n",
    "    w_given_tag_list = [pair[0] for pair in tag_list if pair[0]==word]\n",
    "    count_w_given_tag = len(w_given_tag_list)\n",
    "    \n",
    "    return (count_w_given_tag, count_tag)"
   ]
  },
  {
   "cell_type": "markdown",
   "metadata": {},
   "source": [
    "### Transition Probabilities"
   ]
  },
  {
   "cell_type": "code",
   "execution_count": 12,
   "metadata": {},
   "outputs": [],
   "source": [
    "# compute tag given tag: tag2(t2) given tag1 (t1), i.e. Transition Probability\n",
    "\n",
    "def t2_given_t1(t2, t1, train_bag = train_tagged_words):\n",
    "    tags = [pair[1] for pair in train_bag]\n",
    "    count_t1 = len([t for t in tags if t==t1])\n",
    "    count_t2_t1 = 0\n",
    "    for index in range(len(tags)-1):\n",
    "        if tags[index]==t1 and tags[index+1] == t2:\n",
    "            count_t2_t1 += 1\n",
    "    return (count_t2_t1, count_t1)"
   ]
  },
  {
   "cell_type": "code",
   "execution_count": 13,
   "metadata": {},
   "outputs": [],
   "source": [
    "# creating t x t transition matrix of tags\n",
    "# each column is t2, each row is t1\n",
    "# thus M(i, j) represents P(tj given ti)\n",
    "\n",
    "tags_matrix = np.zeros((len(T), len(T)), dtype='float32')\n",
    "for i, t1 in enumerate(list(T)):\n",
    "    for j, t2 in enumerate(list(T)): \n",
    "        tags_matrix[i, j] = t2_given_t1(t2, t1)[0]/t2_given_t1(t2, t1)[1]"
   ]
  },
  {
   "cell_type": "code",
   "execution_count": 14,
   "metadata": {},
   "outputs": [
    {
     "data": {
      "text/plain": [
       "array([[1.97433378e-03, 1.87561698e-02, 1.28331687e-02, 8.55544582e-02,\n",
       "        1.05297798e-02, 1.94142815e-02, 4.24481742e-02, 1.64527807e-03,\n",
       "        1.02007240e-01, 5.62685095e-02, 2.46791705e-01, 4.01776910e-01],\n",
       "       [1.22652361e-02, 7.66577246e-03, 9.27558467e-02, 7.47412816e-02,\n",
       "        3.52625512e-02, 2.22307406e-02, 4.06285934e-02, 5.36604086e-03,\n",
       "        9.58221499e-03, 6.89919526e-03, 2.07742423e-01, 4.84860092e-01],\n",
       "       [1.84411854e-01, 5.54670058e-02, 7.49123394e-02, 1.67357344e-02,\n",
       "        2.66177878e-02, 1.45521194e-01, 1.63053870e-01, 1.05196051e-02,\n",
       "        5.33949621e-02, 2.86898320e-03, 6.20019138e-02, 2.04494745e-01],\n",
       "       [1.12303877e-02, 6.60611084e-04, 2.04789434e-02, 6.75474778e-02,\n",
       "        4.78943018e-03, 7.76218027e-02, 6.50701895e-02, 1.66804288e-02,\n",
       "        4.95458301e-03, 2.09744014e-02, 6.97770417e-01, 1.22213047e-02],\n",
       "       [1.39072845e-02, 1.49006620e-02, 2.35099345e-02, 1.29801318e-01,\n",
       "        7.81456977e-02, 1.19205296e-01, 1.39072850e-01, 6.95364224e-03,\n",
       "        6.75496683e-02, 3.14569548e-02, 3.07947025e-02, 3.44701976e-01],\n",
       "       [1.39499945e-03, 6.92134351e-02, 3.48749869e-02, 1.05912648e-01,\n",
       "        1.38426870e-02, 1.69546083e-02, 3.97038311e-02, 8.58461193e-04,\n",
       "        3.23854476e-01, 6.20238222e-02, 3.22888732e-01, 8.47730413e-03],\n",
       "       [2.51301378e-03, 6.59666136e-02, 2.65661459e-02, 4.32597362e-02,\n",
       "        5.25040403e-02, 9.01094973e-02, 9.35200155e-02, 5.86968213e-02,\n",
       "        1.73218459e-01, 8.22114497e-02, 2.22670972e-01, 8.86734873e-02],\n",
       "       [5.14018675e-03, 5.93457930e-02, 7.94392545e-03, 1.16822429e-01,\n",
       "        5.51401861e-02, 5.42056076e-02, 3.45794410e-02, 4.67289734e-04,\n",
       "        1.21495329e-01, 4.25233655e-02, 3.45327109e-01, 1.57009348e-01],\n",
       "       [2.42483031e-04, 3.51600396e-03, 4.63142581e-02, 2.04413190e-01,\n",
       "        1.22453924e-02, 9.09311324e-03, 1.78225022e-02, 4.84966062e-04,\n",
       "        5.09214355e-03, 2.29146462e-02, 6.38215303e-01, 3.96459736e-02],\n",
       "       [2.56940350e-02, 1.47666864e-03, 2.12344944e-01, 3.33727114e-02,\n",
       "        2.06733611e-03, 3.54400463e-02, 1.14884824e-01, 1.24040162e-02,\n",
       "        3.24867107e-03, 1.84583575e-01, 3.56467813e-01, 1.80153567e-02],\n",
       "       [4.35862765e-02, 4.89569269e-03, 2.89357342e-02, 1.24219060e-02,\n",
       "        1.69522483e-02, 1.75696909e-01, 2.40948454e-01, 4.21614125e-02,\n",
       "        1.34083517e-02, 9.53563955e-03, 2.65317321e-01, 1.46140069e-01],\n",
       "       [3.11066173e-02, 3.57726105e-02, 2.17513025e-01, 6.49350658e-02,\n",
       "        8.24325383e-02, 9.15312245e-02, 3.52282450e-02, 5.44365821e-03,\n",
       "        1.33447394e-01, 2.30966639e-02, 1.09650828e-01, 1.69842139e-01]],\n",
       "      dtype=float32)"
      ]
     },
     "execution_count": 14,
     "metadata": {},
     "output_type": "execute_result"
    }
   ],
   "source": [
    "tags_matrix"
   ]
  },
  {
   "cell_type": "code",
   "execution_count": 15,
   "metadata": {},
   "outputs": [],
   "source": [
    "# convert the matrix to a df for better readability\n",
    "tags_df = pd.DataFrame(tags_matrix, columns = list(T), index=list(T))"
   ]
  },
  {
   "cell_type": "code",
   "execution_count": 16,
   "metadata": {},
   "outputs": [
    {
     "data": {
      "text/html": [
       "<div>\n",
       "<style scoped>\n",
       "    .dataframe tbody tr th:only-of-type {\n",
       "        vertical-align: middle;\n",
       "    }\n",
       "\n",
       "    .dataframe tbody tr th {\n",
       "        vertical-align: top;\n",
       "    }\n",
       "\n",
       "    .dataframe thead th {\n",
       "        text-align: right;\n",
       "    }\n",
       "</style>\n",
       "<table border=\"1\" class=\"dataframe\">\n",
       "  <thead>\n",
       "    <tr style=\"text-align: right;\">\n",
       "      <th></th>\n",
       "      <th>PRT</th>\n",
       "      <th>PRON</th>\n",
       "      <th>X</th>\n",
       "      <th>ADJ</th>\n",
       "      <th>ADV</th>\n",
       "      <th>ADP</th>\n",
       "      <th>.</th>\n",
       "      <th>CONJ</th>\n",
       "      <th>DET</th>\n",
       "      <th>NUM</th>\n",
       "      <th>NOUN</th>\n",
       "      <th>VERB</th>\n",
       "    </tr>\n",
       "  </thead>\n",
       "  <tbody>\n",
       "    <tr>\n",
       "      <th>PRT</th>\n",
       "      <td>0.001974</td>\n",
       "      <td>0.018756</td>\n",
       "      <td>0.012833</td>\n",
       "      <td>0.085554</td>\n",
       "      <td>0.010530</td>\n",
       "      <td>0.019414</td>\n",
       "      <td>0.042448</td>\n",
       "      <td>0.001645</td>\n",
       "      <td>0.102007</td>\n",
       "      <td>0.056269</td>\n",
       "      <td>0.246792</td>\n",
       "      <td>0.401777</td>\n",
       "    </tr>\n",
       "    <tr>\n",
       "      <th>PRON</th>\n",
       "      <td>0.012265</td>\n",
       "      <td>0.007666</td>\n",
       "      <td>0.092756</td>\n",
       "      <td>0.074741</td>\n",
       "      <td>0.035263</td>\n",
       "      <td>0.022231</td>\n",
       "      <td>0.040629</td>\n",
       "      <td>0.005366</td>\n",
       "      <td>0.009582</td>\n",
       "      <td>0.006899</td>\n",
       "      <td>0.207742</td>\n",
       "      <td>0.484860</td>\n",
       "    </tr>\n",
       "    <tr>\n",
       "      <th>X</th>\n",
       "      <td>0.184412</td>\n",
       "      <td>0.055467</td>\n",
       "      <td>0.074912</td>\n",
       "      <td>0.016736</td>\n",
       "      <td>0.026618</td>\n",
       "      <td>0.145521</td>\n",
       "      <td>0.163054</td>\n",
       "      <td>0.010520</td>\n",
       "      <td>0.053395</td>\n",
       "      <td>0.002869</td>\n",
       "      <td>0.062002</td>\n",
       "      <td>0.204495</td>\n",
       "    </tr>\n",
       "    <tr>\n",
       "      <th>ADJ</th>\n",
       "      <td>0.011230</td>\n",
       "      <td>0.000661</td>\n",
       "      <td>0.020479</td>\n",
       "      <td>0.067547</td>\n",
       "      <td>0.004789</td>\n",
       "      <td>0.077622</td>\n",
       "      <td>0.065070</td>\n",
       "      <td>0.016680</td>\n",
       "      <td>0.004955</td>\n",
       "      <td>0.020974</td>\n",
       "      <td>0.697770</td>\n",
       "      <td>0.012221</td>\n",
       "    </tr>\n",
       "    <tr>\n",
       "      <th>ADV</th>\n",
       "      <td>0.013907</td>\n",
       "      <td>0.014901</td>\n",
       "      <td>0.023510</td>\n",
       "      <td>0.129801</td>\n",
       "      <td>0.078146</td>\n",
       "      <td>0.119205</td>\n",
       "      <td>0.139073</td>\n",
       "      <td>0.006954</td>\n",
       "      <td>0.067550</td>\n",
       "      <td>0.031457</td>\n",
       "      <td>0.030795</td>\n",
       "      <td>0.344702</td>\n",
       "    </tr>\n",
       "    <tr>\n",
       "      <th>ADP</th>\n",
       "      <td>0.001395</td>\n",
       "      <td>0.069213</td>\n",
       "      <td>0.034875</td>\n",
       "      <td>0.105913</td>\n",
       "      <td>0.013843</td>\n",
       "      <td>0.016955</td>\n",
       "      <td>0.039704</td>\n",
       "      <td>0.000858</td>\n",
       "      <td>0.323854</td>\n",
       "      <td>0.062024</td>\n",
       "      <td>0.322889</td>\n",
       "      <td>0.008477</td>\n",
       "    </tr>\n",
       "    <tr>\n",
       "      <th>.</th>\n",
       "      <td>0.002513</td>\n",
       "      <td>0.065967</td>\n",
       "      <td>0.026566</td>\n",
       "      <td>0.043260</td>\n",
       "      <td>0.052504</td>\n",
       "      <td>0.090109</td>\n",
       "      <td>0.093520</td>\n",
       "      <td>0.058697</td>\n",
       "      <td>0.173218</td>\n",
       "      <td>0.082211</td>\n",
       "      <td>0.222671</td>\n",
       "      <td>0.088673</td>\n",
       "    </tr>\n",
       "    <tr>\n",
       "      <th>CONJ</th>\n",
       "      <td>0.005140</td>\n",
       "      <td>0.059346</td>\n",
       "      <td>0.007944</td>\n",
       "      <td>0.116822</td>\n",
       "      <td>0.055140</td>\n",
       "      <td>0.054206</td>\n",
       "      <td>0.034579</td>\n",
       "      <td>0.000467</td>\n",
       "      <td>0.121495</td>\n",
       "      <td>0.042523</td>\n",
       "      <td>0.345327</td>\n",
       "      <td>0.157009</td>\n",
       "    </tr>\n",
       "    <tr>\n",
       "      <th>DET</th>\n",
       "      <td>0.000242</td>\n",
       "      <td>0.003516</td>\n",
       "      <td>0.046314</td>\n",
       "      <td>0.204413</td>\n",
       "      <td>0.012245</td>\n",
       "      <td>0.009093</td>\n",
       "      <td>0.017823</td>\n",
       "      <td>0.000485</td>\n",
       "      <td>0.005092</td>\n",
       "      <td>0.022915</td>\n",
       "      <td>0.638215</td>\n",
       "      <td>0.039646</td>\n",
       "    </tr>\n",
       "    <tr>\n",
       "      <th>NUM</th>\n",
       "      <td>0.025694</td>\n",
       "      <td>0.001477</td>\n",
       "      <td>0.212345</td>\n",
       "      <td>0.033373</td>\n",
       "      <td>0.002067</td>\n",
       "      <td>0.035440</td>\n",
       "      <td>0.114885</td>\n",
       "      <td>0.012404</td>\n",
       "      <td>0.003249</td>\n",
       "      <td>0.184584</td>\n",
       "      <td>0.356468</td>\n",
       "      <td>0.018015</td>\n",
       "    </tr>\n",
       "    <tr>\n",
       "      <th>NOUN</th>\n",
       "      <td>0.043586</td>\n",
       "      <td>0.004896</td>\n",
       "      <td>0.028936</td>\n",
       "      <td>0.012422</td>\n",
       "      <td>0.016952</td>\n",
       "      <td>0.175697</td>\n",
       "      <td>0.240948</td>\n",
       "      <td>0.042161</td>\n",
       "      <td>0.013408</td>\n",
       "      <td>0.009536</td>\n",
       "      <td>0.265317</td>\n",
       "      <td>0.146140</td>\n",
       "    </tr>\n",
       "    <tr>\n",
       "      <th>VERB</th>\n",
       "      <td>0.031107</td>\n",
       "      <td>0.035773</td>\n",
       "      <td>0.217513</td>\n",
       "      <td>0.064935</td>\n",
       "      <td>0.082433</td>\n",
       "      <td>0.091531</td>\n",
       "      <td>0.035228</td>\n",
       "      <td>0.005444</td>\n",
       "      <td>0.133447</td>\n",
       "      <td>0.023097</td>\n",
       "      <td>0.109651</td>\n",
       "      <td>0.169842</td>\n",
       "    </tr>\n",
       "  </tbody>\n",
       "</table>\n",
       "</div>"
      ],
      "text/plain": [
       "           PRT      PRON         X       ADJ       ADV       ADP         .  \\\n",
       "PRT   0.001974  0.018756  0.012833  0.085554  0.010530  0.019414  0.042448   \n",
       "PRON  0.012265  0.007666  0.092756  0.074741  0.035263  0.022231  0.040629   \n",
       "X     0.184412  0.055467  0.074912  0.016736  0.026618  0.145521  0.163054   \n",
       "ADJ   0.011230  0.000661  0.020479  0.067547  0.004789  0.077622  0.065070   \n",
       "ADV   0.013907  0.014901  0.023510  0.129801  0.078146  0.119205  0.139073   \n",
       "ADP   0.001395  0.069213  0.034875  0.105913  0.013843  0.016955  0.039704   \n",
       ".     0.002513  0.065967  0.026566  0.043260  0.052504  0.090109  0.093520   \n",
       "CONJ  0.005140  0.059346  0.007944  0.116822  0.055140  0.054206  0.034579   \n",
       "DET   0.000242  0.003516  0.046314  0.204413  0.012245  0.009093  0.017823   \n",
       "NUM   0.025694  0.001477  0.212345  0.033373  0.002067  0.035440  0.114885   \n",
       "NOUN  0.043586  0.004896  0.028936  0.012422  0.016952  0.175697  0.240948   \n",
       "VERB  0.031107  0.035773  0.217513  0.064935  0.082433  0.091531  0.035228   \n",
       "\n",
       "          CONJ       DET       NUM      NOUN      VERB  \n",
       "PRT   0.001645  0.102007  0.056269  0.246792  0.401777  \n",
       "PRON  0.005366  0.009582  0.006899  0.207742  0.484860  \n",
       "X     0.010520  0.053395  0.002869  0.062002  0.204495  \n",
       "ADJ   0.016680  0.004955  0.020974  0.697770  0.012221  \n",
       "ADV   0.006954  0.067550  0.031457  0.030795  0.344702  \n",
       "ADP   0.000858  0.323854  0.062024  0.322889  0.008477  \n",
       ".     0.058697  0.173218  0.082211  0.222671  0.088673  \n",
       "CONJ  0.000467  0.121495  0.042523  0.345327  0.157009  \n",
       "DET   0.000485  0.005092  0.022915  0.638215  0.039646  \n",
       "NUM   0.012404  0.003249  0.184584  0.356468  0.018015  \n",
       "NOUN  0.042161  0.013408  0.009536  0.265317  0.146140  \n",
       "VERB  0.005444  0.133447  0.023097  0.109651  0.169842  "
      ]
     },
     "execution_count": 16,
     "metadata": {},
     "output_type": "execute_result"
    }
   ],
   "source": [
    "tags_df"
   ]
  },
  {
   "cell_type": "code",
   "execution_count": 17,
   "metadata": {},
   "outputs": [
    {
     "data": {
      "image/png": "[encoded data removed]",
      "text/plain": [
       "<Figure size 1296x864 with 2 Axes>"
      ]
     },
     "metadata": {
      "needs_background": "light"
     },
     "output_type": "display_data"
    }
   ],
   "source": [
    "# heatmap of tags matrix\n",
    "# T(i, j) means P(tag j given tag i)\n",
    "plt.figure(figsize=(18, 12))\n",
    "sns.heatmap(tags_df)\n",
    "plt.show()"
   ]
  },
  {
   "cell_type": "code",
   "execution_count": 18,
   "metadata": {},
   "outputs": [
    {
     "data": {
      "image/png": "[encoded data removed]",
      "text/plain": [
       "<Figure size 1296x864 with 2 Axes>"
      ]
     },
     "metadata": {
      "needs_background": "light"
     },
     "output_type": "display_data"
    }
   ],
   "source": [
    "# frequent tags\n",
    "# filter the df to get P(t2, t1) > 0.5\n",
    "tags_frequent = tags_df[tags_df>0.5]\n",
    "plt.figure(figsize=(18, 12))\n",
    "sns.heatmap(tags_frequent)\n",
    "plt.show()"
   ]
  },
  {
   "cell_type": "markdown",
   "metadata": {},
   "source": [
    "### Build the vanilla Viterbi based POS tagger"
   ]
  },
  {
   "cell_type": "code",
   "execution_count": 19,
   "metadata": {},
   "outputs": [],
   "source": [
    "# Viterbi Heuristic\n",
    "def Viterbi(words, train_bag = train_tagged_words):\n",
    "    state = []\n",
    "    T = list(set([pair[1] for pair in train_bag]))\n",
    "    \n",
    "    for key, word in enumerate(words):\n",
    "        #initialise list of probability column for a given observation\n",
    "        p = [] \n",
    "        for tag in T:\n",
    "            if key == 0:\n",
    "                transition_p = tags_df.loc['.', tag]\n",
    "            else:\n",
    "                transition_p = tags_df.loc[state[-1], tag]\n",
    "                \n",
    "            # compute emission and state probabilities\n",
    "            emission_p = word_given_tag(words[key], tag)[0]/word_given_tag(words[key], tag)[1]\n",
    "            state_probability = emission_p * transition_p    \n",
    "            p.append(state_probability)\n",
    "            \n",
    "        pmax = max(p)\n",
    "        # getting state for which probability is maximum\n",
    "        state_max = T[p.index(pmax)] \n",
    "        state.append(state_max)\n",
    "    return list(zip(words, state))"
   ]
  },
  {
   "cell_type": "code",
   "execution_count": 20,
   "metadata": {},
   "outputs": [
    {
     "data": {
      "text/plain": [
       "[[('For', 'ADP'),\n",
       "  ('all', 'DET'),\n",
       "  ('the', 'DET'),\n",
       "  ('furor', 'NOUN'),\n",
       "  (',', '.'),\n",
       "  ('there', 'DET'),\n",
       "  ('is', 'VERB'),\n",
       "  ('nothing', 'NOUN'),\n",
       "  ('particularly', 'ADV'),\n",
       "  ('complex', 'ADJ'),\n",
       "  ('about', 'ADP'),\n",
       "  ('the', 'DET'),\n",
       "  ('concept', 'NOUN'),\n",
       "  ('of', 'ADP'),\n",
       "  ('stock-index', 'ADJ'),\n",
       "  ('arbitrage', 'NOUN'),\n",
       "  (',', '.'),\n",
       "  ('the', 'DET'),\n",
       "  ('most', 'ADV'),\n",
       "  ('controversial', 'ADJ'),\n",
       "  ('type', 'NOUN'),\n",
       "  ('of', 'ADP'),\n",
       "  ('computer-assisted', 'ADJ'),\n",
       "  ('program', 'NOUN'),\n",
       "  ('trading', 'NOUN'),\n",
       "  ('.', '.')],\n",
       " [('The', 'DET'),\n",
       "  ('Santa', 'NOUN'),\n",
       "  ('Ana', 'NOUN'),\n",
       "  ('bonds', 'NOUN'),\n",
       "  ('were', 'VERB'),\n",
       "  ('tentatively', 'ADV'),\n",
       "  ('priced', 'VERB'),\n",
       "  ('*-1', 'X'),\n",
       "  ('*-2', 'X'),\n",
       "  ('to', 'PRT'),\n",
       "  ('yield', 'VERB'),\n",
       "  ('from', 'ADP'),\n",
       "  ('6.40', 'NUM'),\n",
       "  ('%', 'NOUN'),\n",
       "  ('in', 'ADP'),\n",
       "  ('1991', 'NUM'),\n",
       "  ('to', 'PRT'),\n",
       "  ('7.458', 'NUM'),\n",
       "  ('%', 'NOUN'),\n",
       "  ('in', 'ADP')],\n",
       " [('And', 'CONJ'),\n",
       "  ('some', 'DET'),\n",
       "  ('grain', 'NOUN'),\n",
       "  ('analysts', 'NOUN'),\n",
       "  ('are', 'VERB'),\n",
       "  ('predicting', 'VERB'),\n",
       "  ('that', 'ADP'),\n",
       "  ('corn', 'NOUN'),\n",
       "  ('prices', 'NOUN'),\n",
       "  ('might', 'VERB'),\n",
       "  ('gyrate', 'VERB'),\n",
       "  ('this', 'DET'),\n",
       "  ('month', 'NOUN'),\n",
       "  ('as', 'ADP'),\n",
       "  ('exporters', 'NOUN'),\n",
       "  ('scrounge', 'VERB'),\n",
       "  ('*-1', 'X'),\n",
       "  ('to', 'PRT'),\n",
       "  ('find', 'VERB'),\n",
       "  ('enough', 'ADV'),\n",
       "  ('of', 'ADP'),\n",
       "  ('the', 'DET'),\n",
       "  ('crop', 'NOUN'),\n",
       "  ('0', 'X'),\n",
       "  ('*T*-2', 'X'),\n",
       "  ('to', 'PRT'),\n",
       "  ('meet', 'VERB'),\n",
       "  ('their', 'PRON'),\n",
       "  ('obligations', 'NOUN'),\n",
       "  ('to', 'PRT'),\n",
       "  ('the', 'DET'),\n",
       "  ('Soviets', 'NOUN'),\n",
       "  ('.', '.')],\n",
       " [('Reed', 'NOUN'),\n",
       "  ('is', 'VERB'),\n",
       "  ('paying', 'VERB'),\n",
       "  ('an', 'DET'),\n",
       "  ('interim', 'ADJ'),\n",
       "  ('dividend', 'NOUN'),\n",
       "  ('of', 'ADP'),\n",
       "  ('4.6', 'NUM'),\n",
       "  ('pence', 'NOUN'),\n",
       "  (',', '.'),\n",
       "  ('up', 'ADV'),\n",
       "  ('15', 'NUM'),\n",
       "  ('%', 'NOUN'),\n",
       "  ('from', 'ADP'),\n",
       "  ('4', 'NUM'),\n",
       "  ('pence', 'NOUN'),\n",
       "  ('a', 'DET'),\n",
       "  ('year', 'NOUN'),\n",
       "  ('earlier', 'ADJ'),\n",
       "  ('.', '.')],\n",
       " [('The', 'DET'),\n",
       "  ('most', 'ADV'),\n",
       "  ('widely', 'ADV'),\n",
       "  ('used', 'ADJ'),\n",
       "  ('of', 'ADP'),\n",
       "  ('these', 'DET'),\n",
       "  ('tests', 'NOUN'),\n",
       "  ('are', 'VERB'),\n",
       "  ('Macmillan\\\\/McGraw', 'NOUN'),\n",
       "  (\"'s\", 'PRT'),\n",
       "  ('CAT', 'NOUN'),\n",
       "  ('and', 'CONJ'),\n",
       "  ('Comprehensive', 'NOUN'),\n",
       "  ('Test', 'NOUN'),\n",
       "  ('of', 'ADP'),\n",
       "  ('Basic', 'ADJ'),\n",
       "  ('Skills', 'NOUN'),\n",
       "  (';', '.'),\n",
       "  ('the', 'DET'),\n",
       "  ('Iowa', 'NOUN'),\n",
       "  ('Test', 'NOUN'),\n",
       "  ('of', 'ADP'),\n",
       "  ('Basic', 'ADJ'),\n",
       "  ('Skills', 'NOUN'),\n",
       "  (',', '.'),\n",
       "  ('by', 'ADP'),\n",
       "  ('Houghton', 'NOUN'),\n",
       "  ('Mifflin', 'NOUN'),\n",
       "  ('Co.', 'NOUN'),\n",
       "  (';', '.'),\n",
       "  ('and', 'CONJ'),\n",
       "  ('Harcourt', 'NOUN'),\n",
       "  ('Brace', 'NOUN'),\n",
       "  ('Jovanovich', 'NOUN'),\n",
       "  ('Inc.', 'NOUN'),\n",
       "  (\"'s\", 'PRT'),\n",
       "  ('Metropolitan', 'NOUN'),\n",
       "  ('Achievement', 'NOUN'),\n",
       "  ('Test', 'NOUN'),\n",
       "  ('and', 'CONJ'),\n",
       "  ('Stanford', 'NOUN'),\n",
       "  ('Achievement', 'NOUN'),\n",
       "  ('Test', 'NOUN'),\n",
       "  ('.', '.')]]"
      ]
     },
     "execution_count": 20,
     "metadata": {},
     "output_type": "execute_result"
    }
   ],
   "source": [
    "# Running on entire test dataset would take more than 3-4hrs. \n",
    "# Let's test our Viterbi algorithm on a few sample sentences of test dataset\n",
    "\n",
    "random.seed(1234)\n",
    "\n",
    "# choose random 5 sents\n",
    "rndom = [random.randint(1,len(test_set)) for x in range(5)]\n",
    "\n",
    "# list of sents\n",
    "test_run = [test_set[i] for i in rndom]\n",
    "\n",
    "# list of tagged words\n",
    "test_run_base = [tup for sent in test_run for tup in sent]\n",
    "\n",
    "# list of untagged words\n",
    "test_tagged_words = [tup[0] for sent in test_run for tup in sent]\n",
    "test_run"
   ]
  },
  {
   "cell_type": "code",
   "execution_count": 21,
   "metadata": {},
   "outputs": [
    {
     "name": "stdout",
     "output_type": "stream",
     "text": [
      "Time taken in seconds:  27.107125997543335\n",
      "[('For', 'ADP'), ('all', 'DET'), ('the', 'DET'), ('furor', 'NOUN'), (',', '.'), ('there', 'DET'), ('is', 'VERB'), ('nothing', 'NOUN'), ('particularly', 'ADV'), ('complex', 'ADJ'), ('about', 'ADP'), ('the', 'DET'), ('concept', 'NOUN'), ('of', 'ADP'), ('stock-index', 'ADJ'), ('arbitrage', 'NOUN'), (',', '.'), ('the', 'DET'), ('most', 'ADJ'), ('controversial', 'ADJ'), ('type', 'NOUN'), ('of', 'ADP'), ('computer-assisted', 'ADJ'), ('program', 'NOUN'), ('trading', 'NOUN'), ('.', '.'), ('The', 'DET'), ('Santa', 'NOUN'), ('Ana', 'NOUN'), ('bonds', 'NOUN'), ('were', 'VERB'), ('tentatively', 'ADV'), ('priced', 'VERB'), ('*-1', 'X'), ('*-2', 'X'), ('to', 'PRT'), ('yield', 'VERB'), ('from', 'ADP'), ('6.40', 'NUM'), ('%', 'NOUN'), ('in', 'ADP'), ('1991', 'NUM'), ('to', 'PRT'), ('7.458', 'NUM'), ('%', 'NOUN'), ('in', 'ADP'), ('And', 'CONJ'), ('some', 'DET'), ('grain', 'NOUN'), ('analysts', 'NOUN'), ('are', 'VERB'), ('predicting', 'VERB'), ('that', 'ADP'), ('corn', 'NOUN'), ('prices', 'NOUN'), ('might', 'VERB'), ('gyrate', 'PRT'), ('this', 'DET'), ('month', 'NOUN'), ('as', 'ADP'), ('exporters', 'NOUN'), ('scrounge', 'PRT'), ('*-1', 'X'), ('to', 'PRT'), ('find', 'VERB'), ('enough', 'ADV'), ('of', 'ADP'), ('the', 'DET'), ('crop', 'NOUN'), ('0', 'X'), ('*T*-2', 'X'), ('to', 'PRT'), ('meet', 'VERB'), ('their', 'PRON'), ('obligations', 'NOUN'), ('to', 'PRT'), ('the', 'DET'), ('Soviets', 'NOUN'), ('.', '.'), ('Reed', 'NOUN'), ('is', 'VERB'), ('paying', 'VERB'), ('an', 'DET'), ('interim', 'ADJ'), ('dividend', 'NOUN'), ('of', 'ADP'), ('4.6', 'NUM'), ('pence', 'NOUN'), (',', '.'), ('up', 'ADV'), ('15', 'NUM'), ('%', 'NOUN'), ('from', 'ADP'), ('4', 'NUM'), ('pence', 'NOUN'), ('a', 'DET'), ('year', 'NOUN'), ('earlier', 'ADV'), ('.', '.'), ('The', 'DET'), ('most', 'ADJ'), ('widely', 'ADV'), ('used', 'VERB'), ('of', 'ADP'), ('these', 'DET'), ('tests', 'NOUN'), ('are', 'VERB'), ('Macmillan\\\\/McGraw', 'NOUN'), (\"'s\", 'PRT'), ('CAT', 'NOUN'), ('and', 'CONJ'), ('Comprehensive', 'NOUN'), ('Test', 'NOUN'), ('of', 'ADP'), ('Basic', 'ADJ'), ('Skills', 'NOUN'), (';', '.'), ('the', 'DET'), ('Iowa', 'NOUN'), ('Test', 'NOUN'), ('of', 'ADP'), ('Basic', 'ADJ'), ('Skills', 'NOUN'), (',', '.'), ('by', 'ADP'), ('Houghton', 'PRT'), ('Mifflin', 'PRT'), ('Co.', 'NOUN'), (';', '.'), ('and', 'CONJ'), ('Harcourt', 'PRT'), ('Brace', 'PRT'), ('Jovanovich', 'PRT'), ('Inc.', 'NOUN'), (\"'s\", 'PRT'), ('Metropolitan', 'PRT'), ('Achievement', 'PRT'), ('Test', 'NOUN'), ('and', 'CONJ'), ('Stanford', 'PRT'), ('Achievement', 'PRT'), ('Test', 'NOUN'), ('.', '.')]\n"
     ]
    }
   ],
   "source": [
    "# tagging the test sentences\n",
    "start = time.time()\n",
    "tagged_seq = Viterbi(test_tagged_words)\n",
    "end = time.time()\n",
    "difference = end-start\n",
    "print(\"Time taken in seconds: \", difference)\n",
    "print(tagged_seq)"
   ]
  },
  {
   "cell_type": "code",
   "execution_count": 22,
   "metadata": {},
   "outputs": [
    {
     "name": "stdout",
     "output_type": "stream",
     "text": [
      "Vanilla Viterbi Accuracy:  89.5104895104895\n"
     ]
    }
   ],
   "source": [
    "# accuracy\n",
    "check = [i for i, j in zip(tagged_seq, test_run_base) if i == j] \n",
    "accuracy_viterbi = len(check)/len(tagged_seq)\n",
    "\n",
    "print('Vanilla Viterbi Accuracy: ',accuracy_viterbi*100)"
   ]
  },
  {
   "cell_type": "code",
   "execution_count": 23,
   "metadata": {},
   "outputs": [
    {
     "data": {
      "text/plain": [
       "[[('the', 'DET'), (('most', 'ADJ'), ('most', 'ADV'))],\n",
       " [('might', 'VERB'), (('gyrate', 'PRT'), ('gyrate', 'VERB'))],\n",
       " [('exporters', 'NOUN'), (('scrounge', 'PRT'), ('scrounge', 'VERB'))],\n",
       " [('year', 'NOUN'), (('earlier', 'ADV'), ('earlier', 'ADJ'))],\n",
       " [('The', 'DET'), (('most', 'ADJ'), ('most', 'ADV'))],\n",
       " [('widely', 'ADV'), (('used', 'VERB'), ('used', 'ADJ'))],\n",
       " [('by', 'ADP'), (('Houghton', 'PRT'), ('Houghton', 'NOUN'))],\n",
       " [('Houghton', 'NOUN'), (('Mifflin', 'PRT'), ('Mifflin', 'NOUN'))],\n",
       " [('and', 'CONJ'), (('Harcourt', 'PRT'), ('Harcourt', 'NOUN'))],\n",
       " [('Harcourt', 'NOUN'), (('Brace', 'PRT'), ('Brace', 'NOUN'))],\n",
       " [('Brace', 'NOUN'), (('Jovanovich', 'PRT'), ('Jovanovich', 'NOUN'))],\n",
       " [(\"'s\", 'PRT'), (('Metropolitan', 'PRT'), ('Metropolitan', 'NOUN'))],\n",
       " [('Metropolitan', 'NOUN'), (('Achievement', 'PRT'), ('Achievement', 'NOUN'))],\n",
       " [('and', 'CONJ'), (('Stanford', 'PRT'), ('Stanford', 'NOUN'))],\n",
       " [('Stanford', 'NOUN'), (('Achievement', 'PRT'), ('Achievement', 'NOUN'))]]"
      ]
     },
     "execution_count": 23,
     "metadata": {},
     "output_type": "execute_result"
    }
   ],
   "source": [
    "incorrect_tagged_cases = [[test_run_base[i-1],j] for i, j in enumerate(zip(tagged_seq, test_run_base)) if j[0]!=j[1]]\n",
    "incorrect_tagged_cases"
   ]
  },
  {
   "cell_type": "markdown",
   "metadata": {},
   "source": [
    "### Solve the problem of unknown words"
   ]
  },
  {
   "cell_type": "markdown",
   "metadata": {},
   "source": [
    "## Modification Technique 1\n",
    "When emission probaility is zero use the transition probability"
   ]
  },
  {
   "cell_type": "code",
   "execution_count": 24,
   "metadata": {},
   "outputs": [],
   "source": [
    "def Viterbi_Tech1(words, train_bag = train_tagged_words):\n",
    "    state = []\n",
    "    T = list(set([pair[1] for pair in train_bag]))\n",
    "    \n",
    "    for key, word in enumerate(words):\n",
    "        #initialise list of probability column for a given observation\n",
    "        p = [] \n",
    "        p_transition =[] # list for storing transition probabilities\n",
    "        for tag in T:\n",
    "            if key == 0:\n",
    "                transition_p = tags_df.loc['.', tag]\n",
    "            else:\n",
    "                transition_p = tags_df.loc[state[-1], tag]\n",
    "                \n",
    "            # compute emission and state probabilities\n",
    "            emission_p = word_given_tag(words[key], tag)[0]/word_given_tag(words[key], tag)[1]\n",
    "            state_probability = emission_p * transition_p    \n",
    "            p.append(state_probability)\n",
    "            p_transition.append(transition_p)\n",
    "            \n",
    "        pmax = max(p)\n",
    "        if pmax==0.0:\n",
    "            state_max = T[p_transition.index(max(p_transition))]\n",
    "            if state_max is None:\n",
    "                state_max = \".\"\n",
    "        else:\n",
    "            state_max = T[p.index(pmax)] \n",
    "        \n",
    "        state.append(state_max)\n",
    "    return list(zip(words, state))"
   ]
  },
  {
   "cell_type": "code",
   "execution_count": 25,
   "metadata": {},
   "outputs": [
    {
     "name": "stdout",
     "output_type": "stream",
     "text": [
      "Time taken in seconds:  26.16565775871277\n",
      "[('For', 'ADP'), ('all', 'DET'), ('the', 'DET'), ('furor', 'NOUN'), (',', '.'), ('there', 'DET'), ('is', 'VERB'), ('nothing', 'NOUN'), ('particularly', 'ADV'), ('complex', 'ADJ'), ('about', 'ADP'), ('the', 'DET'), ('concept', 'NOUN'), ('of', 'ADP'), ('stock-index', 'ADJ'), ('arbitrage', 'NOUN'), (',', '.'), ('the', 'DET'), ('most', 'ADJ'), ('controversial', 'ADJ'), ('type', 'NOUN'), ('of', 'ADP'), ('computer-assisted', 'ADJ'), ('program', 'NOUN'), ('trading', 'NOUN'), ('.', '.'), ('The', 'DET'), ('Santa', 'NOUN'), ('Ana', 'NOUN'), ('bonds', 'NOUN'), ('were', 'VERB'), ('tentatively', 'ADV'), ('priced', 'VERB'), ('*-1', 'X'), ('*-2', 'X'), ('to', 'PRT'), ('yield', 'VERB'), ('from', 'ADP'), ('6.40', 'NUM'), ('%', 'NOUN'), ('in', 'ADP'), ('1991', 'NUM'), ('to', 'PRT'), ('7.458', 'NUM'), ('%', 'NOUN'), ('in', 'ADP'), ('And', 'CONJ'), ('some', 'DET'), ('grain', 'NOUN'), ('analysts', 'NOUN'), ('are', 'VERB'), ('predicting', 'VERB'), ('that', 'ADP'), ('corn', 'NOUN'), ('prices', 'NOUN'), ('might', 'VERB'), ('gyrate', 'X'), ('this', 'DET'), ('month', 'NOUN'), ('as', 'ADP'), ('exporters', 'NOUN'), ('scrounge', 'NOUN'), ('*-1', 'X'), ('to', 'PRT'), ('find', 'VERB'), ('enough', 'ADV'), ('of', 'ADP'), ('the', 'DET'), ('crop', 'NOUN'), ('0', 'X'), ('*T*-2', 'X'), ('to', 'PRT'), ('meet', 'VERB'), ('their', 'PRON'), ('obligations', 'NOUN'), ('to', 'PRT'), ('the', 'DET'), ('Soviets', 'NOUN'), ('.', '.'), ('Reed', 'NOUN'), ('is', 'VERB'), ('paying', 'VERB'), ('an', 'DET'), ('interim', 'ADJ'), ('dividend', 'NOUN'), ('of', 'ADP'), ('4.6', 'NUM'), ('pence', 'NOUN'), (',', '.'), ('up', 'ADV'), ('15', 'NUM'), ('%', 'NOUN'), ('from', 'ADP'), ('4', 'NUM'), ('pence', 'NOUN'), ('a', 'DET'), ('year', 'NOUN'), ('earlier', 'ADV'), ('.', '.'), ('The', 'DET'), ('most', 'ADJ'), ('widely', 'ADV'), ('used', 'VERB'), ('of', 'ADP'), ('these', 'DET'), ('tests', 'NOUN'), ('are', 'VERB'), ('Macmillan\\\\/McGraw', 'NOUN'), (\"'s\", 'PRT'), ('CAT', 'NOUN'), ('and', 'CONJ'), ('Comprehensive', 'NOUN'), ('Test', 'NOUN'), ('of', 'ADP'), ('Basic', 'ADJ'), ('Skills', 'NOUN'), (';', '.'), ('the', 'DET'), ('Iowa', 'NOUN'), ('Test', 'NOUN'), ('of', 'ADP'), ('Basic', 'ADJ'), ('Skills', 'NOUN'), (',', '.'), ('by', 'ADP'), ('Houghton', 'DET'), ('Mifflin', 'NOUN'), ('Co.', 'NOUN'), (';', '.'), ('and', 'CONJ'), ('Harcourt', 'NOUN'), ('Brace', 'NOUN'), ('Jovanovich', 'NOUN'), ('Inc.', 'NOUN'), (\"'s\", 'PRT'), ('Metropolitan', 'VERB'), ('Achievement', 'X'), ('Test', 'NOUN'), ('and', 'CONJ'), ('Stanford', 'NOUN'), ('Achievement', 'NOUN'), ('Test', 'NOUN'), ('.', '.')]\n"
     ]
    }
   ],
   "source": [
    "# tagging the test sentences\n",
    "start = time.time()\n",
    "tagged_seq =  Viterbi_Tech1(test_tagged_words)\n",
    "end = time.time()\n",
    "difference = end-start\n",
    "\n",
    "print(\"Time taken in seconds: \", difference)\n",
    "print(tagged_seq)"
   ]
  },
  {
   "cell_type": "code",
   "execution_count": 26,
   "metadata": {},
   "outputs": [
    {
     "name": "stdout",
     "output_type": "stream",
     "text": [
      "Vanilla Viterbi for Unknown Words Accuracy:  93.7062937062937\n"
     ]
    }
   ],
   "source": [
    "# accuracy\n",
    "check = [i for i, j in zip(tagged_seq, test_run_base) if i == j] \n",
    "Viterbi_Tech1_Accuracy = len(check)/len(tagged_seq)\n",
    "print('Vanilla Viterbi for Unknown Words Accuracy: ',Viterbi_Tech1_Accuracy*100)"
   ]
  },
  {
   "cell_type": "markdown",
   "metadata": {},
   "source": [
    "## Modification Technique 2"
   ]
  },
  {
   "cell_type": "markdown",
   "metadata": {},
   "source": [
    "Let's combining the taggers. combining the Rule Based Tagger with Unigram Tagger for solve the problem of Unknown words"
   ]
  },
  {
   "cell_type": "code",
   "execution_count": 27,
   "metadata": {},
   "outputs": [],
   "source": [
    "def unigramtagger(word,train_set = train_set):\n",
    "    patterns = [\n",
    "    (r'.*ing$', 'VERB'),              # gerund\n",
    "    (r'.*ed$', 'VERB'),               # past tense\n",
    "    (r'.*es$', 'VERB'),               # 3rd singular present\n",
    "    (r'.*ould$', 'X'),                # modals\n",
    "    (r'.*\\'s$', 'NOUN'),              # possessive nouns\n",
    "    (r'.*s$', 'NOUN'),                # plural nouns\n",
    "    (r'^-?[0-9]+(.[0-9]+)?$', 'NUM'), # cardinal numbers\n",
    "    (r'.*', 'NOUN')                    # nouns\n",
    "    ]\n",
    "    regex_based_tagger = nltk.RegexpTagger(patterns)\n",
    "\n",
    "    unigram_regex_tagger = nltk.UnigramTagger(train_set, backoff=regex_based_tagger)\n",
    "    return unigram_regex_tagger.tag_sents([[(word)]])"
   ]
  },
  {
   "cell_type": "code",
   "execution_count": 28,
   "metadata": {},
   "outputs": [],
   "source": [
    "def Viterbi_Tech2(words, train_bag = train_tagged_words):\n",
    "    state = []\n",
    "    T = list(set([pair[1] for pair in train_bag]))\n",
    "    \n",
    "    for key, word in enumerate(words):\n",
    "\n",
    "        if word not in tokens:\n",
    "            unknown_word_tag=unigramtagger(word)\n",
    "            for sent in unknown_word_tag:\n",
    "                for tup in sent:\n",
    "                    state.append(tup[1])           \n",
    "        else:            \n",
    "            p = [] \n",
    "            for tag in T:\n",
    "                if key == 0:\n",
    "                    transition_p = tags_df.loc['.', tag]\n",
    "                else:\n",
    "                    transition_p = tags_df.loc[state[-1], tag]\n",
    "                \n",
    "            # compute emission and state probabilities\n",
    "                emission_p = word_given_tag(words[key], tag)[0]/word_given_tag(words[key], tag)[1]\n",
    "                state_probability = emission_p * transition_p    \n",
    "                p.append(state_probability)\n",
    "            \n",
    "            pmax = max(p)\n",
    "            # getting state for which probability is maximum\n",
    "            state_max = T[p.index(pmax)] \n",
    "            state.append(state_max)\n",
    "            \n",
    "    return list(zip(words, state))"
   ]
  },
  {
   "cell_type": "code",
   "execution_count": 29,
   "metadata": {},
   "outputs": [],
   "source": [
    "start = time.time()\n",
    "tagged_seq = Viterbi_Tech2(test_tagged_words)\n",
    "end = time.time()\n",
    "difference = end-start"
   ]
  },
  {
   "cell_type": "code",
   "execution_count": 30,
   "metadata": {},
   "outputs": [
    {
     "name": "stdout",
     "output_type": "stream",
     "text": [
      "Vanilla Viterbi for Rule based And Unigram Tagger Accuracy:  95.8041958041958\n"
     ]
    }
   ],
   "source": [
    "check1 = [i for i, j in zip(tagged_seq, test_run_base) if i == j]\n",
    "Viterbi_Tech2_Accuracy = len(check1)/len(tagged_seq)\n",
    "print('Vanilla Viterbi for Rule based And Unigram Tagger Accuracy: ',Viterbi_Tech2_Accuracy*100)"
   ]
  },
  {
   "cell_type": "markdown",
   "metadata": {},
   "source": [
    "### Compare the tagging accuracies of the modifications with the vanilla Viterbi algorithm"
   ]
  },
  {
   "cell_type": "code",
   "execution_count": 31,
   "metadata": {},
   "outputs": [],
   "source": [
    "accuracy_list = [['Vanilla Viterbi',accuracy_viterbi*100],\n",
    "                 ['Viterbi_Tech1',Viterbi_Tech1_Accuracy*100],\n",
    "                 ['Viterbi_Tech2',Viterbi_Tech2_Accuracy*100]]"
   ]
  },
  {
   "cell_type": "code",
   "execution_count": 32,
   "metadata": {},
   "outputs": [
    {
     "data": {
      "text/html": [
       "<div>\n",
       "<style scoped>\n",
       "    .dataframe tbody tr th:only-of-type {\n",
       "        vertical-align: middle;\n",
       "    }\n",
       "\n",
       "    .dataframe tbody tr th {\n",
       "        vertical-align: top;\n",
       "    }\n",
       "\n",
       "    .dataframe thead th {\n",
       "        text-align: right;\n",
       "    }\n",
       "</style>\n",
       "<table border=\"1\" class=\"dataframe\">\n",
       "  <thead>\n",
       "    <tr style=\"text-align: right;\">\n",
       "      <th></th>\n",
       "      <th>Accuracy</th>\n",
       "    </tr>\n",
       "    <tr>\n",
       "      <th>Algorithm</th>\n",
       "      <th></th>\n",
       "    </tr>\n",
       "  </thead>\n",
       "  <tbody>\n",
       "    <tr>\n",
       "      <th>Vanilla Viterbi</th>\n",
       "      <td>89.510490</td>\n",
       "    </tr>\n",
       "    <tr>\n",
       "      <th>Viterbi_Tech1</th>\n",
       "      <td>93.706294</td>\n",
       "    </tr>\n",
       "    <tr>\n",
       "      <th>Viterbi_Tech2</th>\n",
       "      <td>95.804196</td>\n",
       "    </tr>\n",
       "  </tbody>\n",
       "</table>\n",
       "</div>"
      ],
      "text/plain": [
       "                  Accuracy\n",
       "Algorithm                 \n",
       "Vanilla Viterbi  89.510490\n",
       "Viterbi_Tech1    93.706294\n",
       "Viterbi_Tech2    95.804196"
      ]
     },
     "execution_count": 32,
     "metadata": {},
     "output_type": "execute_result"
    }
   ],
   "source": [
    "df = pd.DataFrame(accuracy_list, columns = ['Algorithm', 'Accuracy'])\n",
    "df.set_index('Algorithm', drop = True, inplace = True)\n",
    "df"
   ]
  },
  {
   "cell_type": "code",
   "execution_count": 33,
   "metadata": {},
   "outputs": [
    {
     "data": {
      "text/plain": [
       "<matplotlib.axes._subplots.AxesSubplot at 0x7fac98a83690>"
      ]
     },
     "execution_count": 33,
     "metadata": {},
     "output_type": "execute_result"
    },
    {
     "data": {
      "image/png": "[encoded data removed]",
      "text/plain": [
       "<Figure size 432x288 with 1 Axes>"
      ]
     },
     "metadata": {
      "needs_background": "light"
     },
     "output_type": "display_data"
    }
   ],
   "source": [
    "df.plot.line()"
   ]
  },
  {
   "cell_type": "markdown",
   "metadata": {},
   "source": [
    "### List down cases which were incorrectly tagged by original POS tagger and got corrected by your modifications"
   ]
  },
  {
   "cell_type": "code",
   "execution_count": 34,
   "metadata": {},
   "outputs": [
    {
     "name": "stdout",
     "output_type": "stream",
     "text": [
      "Android is a mobile operating system developed by Google.\n",
      "Android has been the best-selling OS worldwide on smartphones since 2011 and on tablets since 2013.\n",
      "Google and Twitter made a deal in 2015 that gave Google access to Twitter's firehose.\n",
      "Twitter is an online news and social networking service on which users post and interact with messages known as tweets.\n",
      "Before entering politics, Donald Trump was a domineering businessman and a television personality.\n",
      "The 2018 FIFA World Cup is the 21st FIFA World Cup, an international football tournament contested once every four years.\n",
      "This is the first World Cup to be held in Eastern Europe and the 11th time that it has been held in Europe.\n",
      "Show me the cheapest round trips from Dallas to Atlanta\n",
      "I would like to see flights from Denver to Philadelphia.\n",
      "Show me the price of the flights leaving Atlanta at about 3 in the afternoon and arriving in San Francisco.\n",
      "NASA invited social media users to experience the launch of ICESAT-2 Satellite.\n",
      "\n",
      "\n",
      "\n",
      "\n"
     ]
    }
   ],
   "source": [
    "## Testing with the test sentences\n",
    "with open('Test_sentences.txt', 'r') as file:\n",
    "    sentences = file.read()\n",
    "\n",
    "print(sentences)"
   ]
  },
  {
   "cell_type": "markdown",
   "metadata": {},
   "source": [
    "## Case 1"
   ]
  },
  {
   "cell_type": "code",
   "execution_count": 35,
   "metadata": {},
   "outputs": [
    {
     "name": "stdout",
     "output_type": "stream",
     "text": [
      "[('Android', 'PRT'), ('is', 'VERB'), ('a', 'DET'), ('mobile', 'ADJ'), ('operating', 'NOUN'), ('system', 'NOUN'), ('developed', 'VERB'), ('by', 'ADP'), ('Google', 'PRT'), ('.', '.')]\n"
     ]
    }
   ],
   "source": [
    "sentence_1 = 'Android is a mobile operating system developed by Google.'\n",
    "words = word_tokenize(sentence_1)\n",
    "tagged_seq = Viterbi(words)\n",
    "print(tagged_seq)"
   ]
  },
  {
   "cell_type": "code",
   "execution_count": 36,
   "metadata": {},
   "outputs": [
    {
     "name": "stdout",
     "output_type": "stream",
     "text": [
      "[('Android', 'NOUN'), ('is', 'VERB'), ('a', 'DET'), ('mobile', 'ADJ'), ('operating', 'NOUN'), ('system', 'NOUN'), ('developed', 'VERB'), ('by', 'ADP'), ('Google', 'NOUN'), ('.', '.')]\n"
     ]
    }
   ],
   "source": [
    "tagged_seq_modified = Viterbi_Tech2(words)\n",
    "print(tagged_seq_modified)"
   ]
  },
  {
   "cell_type": "markdown",
   "metadata": {},
   "source": [
    "## Case 2"
   ]
  },
  {
   "cell_type": "code",
   "execution_count": 37,
   "metadata": {},
   "outputs": [
    {
     "name": "stdout",
     "output_type": "stream",
     "text": [
      "[('Google', 'PRT'), ('and', 'CONJ'), ('Twitter', 'PRT'), ('made', 'VERB'), ('a', 'DET'), ('deal', 'NOUN'), ('in', 'ADP'), ('2015', 'PRT'), ('that', 'DET'), ('gave', 'VERB'), ('Google', 'PRT'), ('access', 'NOUN'), ('to', 'PRT'), ('Twitter', 'PRT'), ('firehose', 'PRT'), ('.', '.')]\n"
     ]
    }
   ],
   "source": [
    "sentence_2 = 'Google and Twitter made a deal in 2015 that gave Google access to Twitter firehose.'\n",
    "words = word_tokenize(sentence_2)\n",
    "tagged_seq = Viterbi(words)\n",
    "print(tagged_seq)"
   ]
  },
  {
   "cell_type": "code",
   "execution_count": 38,
   "metadata": {},
   "outputs": [
    {
     "name": "stdout",
     "output_type": "stream",
     "text": [
      "[('Google', 'NOUN'), ('and', 'CONJ'), ('Twitter', 'NOUN'), ('made', 'VERB'), ('a', 'DET'), ('deal', 'NOUN'), ('in', 'ADP'), ('2015', 'NUM'), ('that', 'ADP'), ('gave', 'VERB'), ('Google', 'NOUN'), ('access', 'NOUN'), ('to', 'PRT'), ('Twitter', 'NOUN'), ('firehose', 'NOUN'), ('.', '.')]\n"
     ]
    }
   ],
   "source": [
    "tagged_seq_modified = Viterbi_Tech2(words)\n",
    "print(tagged_seq_modified)"
   ]
  },
  {
   "cell_type": "markdown",
   "metadata": {},
   "source": [
    "## Case 3"
   ]
  },
  {
   "cell_type": "code",
   "execution_count": 39,
   "metadata": {},
   "outputs": [
    {
     "name": "stdout",
     "output_type": "stream",
     "text": [
      "[('NASA', 'PRT'), ('invited', 'PRT'), ('social', 'ADJ'), ('media', 'NOUN'), ('users', 'NOUN'), ('to', 'PRT'), ('experience', 'NOUN'), ('the', 'DET'), ('launch', 'NOUN'), ('of', 'ADP'), ('ICESAT-2', 'PRT'), ('Satellite', 'PRT'), ('.', '.')]\n"
     ]
    }
   ],
   "source": [
    "sentence_3 = 'NASA invited social media users to experience the launch of ICESAT-2 Satellite.'\n",
    "words = word_tokenize(sentence_3)\n",
    "tagged_seq = Viterbi(words)\n",
    "print(tagged_seq)"
   ]
  },
  {
   "cell_type": "code",
   "execution_count": 40,
   "metadata": {},
   "outputs": [
    {
     "name": "stdout",
     "output_type": "stream",
     "text": [
      "[('NASA', 'NOUN'), ('invited', 'VERB'), ('social', 'ADJ'), ('media', 'NOUN'), ('users', 'NOUN'), ('to', 'PRT'), ('experience', 'NOUN'), ('the', 'DET'), ('launch', 'NOUN'), ('of', 'ADP'), ('ICESAT-2', 'NOUN'), ('Satellite', 'NOUN'), ('.', '.')]\n"
     ]
    }
   ],
   "source": [
    "tagged_seq_modified = Viterbi_Tech2(words)\n",
    "print(tagged_seq_modified)"
   ]
  },
  {
   "cell_type": "code",
   "execution_count": null,
   "metadata": {},
   "outputs": [],
   "source": []
  },
  {
   "cell_type": "code",
   "execution_count": null,
   "metadata": {},
   "outputs": [],
   "source": []
  },
  {
   "cell_type": "code",
   "execution_count": null,
   "metadata": {},
   "outputs": [],
   "source": []
  },
  {
   "cell_type": "code",
   "execution_count": null,
   "metadata": {},
   "outputs": [],
   "source": []
  }
 ],
 "metadata": {
  "kernelspec": {
   "display_name": "Python 3",
   "language": "python",
   "name": "python3"
  },
  "language_info": {
   "codemirror_mode": {
    "name": "ipython",
    "version": 3
   },
   "file_extension": ".py",
   "mimetype": "text/x-python",
   "name": "python",
   "nbconvert_exporter": "python",
   "pygments_lexer": "ipython3",
   "version": "3.7.4"
  }
 },
 "nbformat": 4,
 "nbformat_minor": 2
}
